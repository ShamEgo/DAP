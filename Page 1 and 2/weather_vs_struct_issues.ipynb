{
 "cells": [
  {
   "cell_type": "code",
   "execution_count": 59,
   "id": "57fe8f19",
   "metadata": {},
   "outputs": [
    {
     "data": {
      "text/html": [
       "<div>\n",
       "<style scoped>\n",
       "    .dataframe tbody tr th:only-of-type {\n",
       "        vertical-align: middle;\n",
       "    }\n",
       "\n",
       "    .dataframe tbody tr th {\n",
       "        vertical-align: top;\n",
       "    }\n",
       "\n",
       "    .dataframe thead th {\n",
       "        text-align: right;\n",
       "    }\n",
       "</style>\n",
       "<table border=\"1\" class=\"dataframe\">\n",
       "  <thead>\n",
       "    <tr style=\"text-align: right;\">\n",
       "      <th></th>\n",
       "      <th>SiteId</th>\n",
       "      <th>SiteRef</th>\n",
       "      <th>SiteOpenIssueId</th>\n",
       "      <th>IssueID</th>\n",
       "      <th>Issue Type</th>\n",
       "      <th>AMSAssetRef</th>\n",
       "      <th>IssueDescription</th>\n",
       "      <th>IssueCreated</th>\n",
       "      <th>RiskRating</th>\n",
       "      <th>WorkRequired</th>\n",
       "      <th>...</th>\n",
       "      <th>OpExEstimate</th>\n",
       "      <th>CapExEstimate</th>\n",
       "      <th>ReviewDate</th>\n",
       "      <th>DateLastUpdated</th>\n",
       "      <th>_LastEditDate</th>\n",
       "      <th>_CreatedDate</th>\n",
       "      <th>UserLastUpdated</th>\n",
       "      <th>ResourcesNeeded</th>\n",
       "      <th>CreatedbyProject</th>\n",
       "      <th>PMProjectRef</th>\n",
       "    </tr>\n",
       "  </thead>\n",
       "  <tbody>\n",
       "    <tr>\n",
       "      <th>0</th>\n",
       "      <td>242</td>\n",
       "      <td>SA000242</td>\n",
       "      <td>1452</td>\n",
       "      <td>SA000242-1</td>\n",
       "      <td>Planned Maintenance</td>\n",
       "      <td>SA000242_STR_1</td>\n",
       "      <td>Z shelter doors suffering corrosion</td>\n",
       "      <td>2020-01-20</td>\n",
       "      <td>1E - NSV</td>\n",
       "      <td>Treat (wire brush &amp; galmet) the spots of corro...</td>\n",
       "      <td>...</td>\n",
       "      <td>NaN</td>\n",
       "      <td>NaN</td>\n",
       "      <td>2024-12-17</td>\n",
       "      <td>NaN</td>\n",
       "      <td>NaT</td>\n",
       "      <td>NaT</td>\n",
       "      <td>NaN</td>\n",
       "      <td>NaN</td>\n",
       "      <td>NaN</td>\n",
       "      <td>NaN</td>\n",
       "    </tr>\n",
       "    <tr>\n",
       "      <th>1</th>\n",
       "      <td>222</td>\n",
       "      <td>SA000222</td>\n",
       "      <td>1336</td>\n",
       "      <td>SA000222-2</td>\n",
       "      <td>Planned Maintenance</td>\n",
       "      <td>SA000222_STR_1</td>\n",
       "      <td>Z shelter doors and frame structure members su...</td>\n",
       "      <td>2021-03-15</td>\n",
       "      <td>2C - PM4 - 5 Years</td>\n",
       "      <td>Wire brrushed, cleaned, treated with galmet. M...</td>\n",
       "      <td>...</td>\n",
       "      <td>NaN</td>\n",
       "      <td>NaN</td>\n",
       "      <td>2025-12-04</td>\n",
       "      <td>Aug  3 2023  1:28PM</td>\n",
       "      <td>2023-08-03</td>\n",
       "      <td>NaT</td>\n",
       "      <td>Christopher Prause</td>\n",
       "      <td>NaN</td>\n",
       "      <td>NaN</td>\n",
       "      <td>NaN</td>\n",
       "    </tr>\n",
       "    <tr>\n",
       "      <th>2</th>\n",
       "      <td>4992</td>\n",
       "      <td>QLD004992</td>\n",
       "      <td>21950</td>\n",
       "      <td>QLD004992-35</td>\n",
       "      <td>Planned Maintenance</td>\n",
       "      <td>QLD004992_STR_1</td>\n",
       "      <td>Z face 20m heavy corrosion on bolts KZ leg</td>\n",
       "      <td>2014-05-28</td>\n",
       "      <td>4C - TFP / PM3 - 18 Months</td>\n",
       "      <td>Replace bolts M20x50. Treat corrosion and repaint</td>\n",
       "      <td>...</td>\n",
       "      <td>NaN</td>\n",
       "      <td>NaN</td>\n",
       "      <td>NaT</td>\n",
       "      <td>Oct 27 2021  2:55PM</td>\n",
       "      <td>NaT</td>\n",
       "      <td>NaT</td>\n",
       "      <td>Peter.R.Grogan@team.telstra.com</td>\n",
       "      <td>NaN</td>\n",
       "      <td>NaN</td>\n",
       "      <td>NaN</td>\n",
       "    </tr>\n",
       "    <tr>\n",
       "      <th>3</th>\n",
       "      <td>316</td>\n",
       "      <td>SA000316</td>\n",
       "      <td>1929</td>\n",
       "      <td>SA000316-12</td>\n",
       "      <td>Planned Maintenance</td>\n",
       "      <td>SA000316_STR_1</td>\n",
       "      <td>YW-Leg ( RL 25mts) &amp; ( RL 20mts.)- 2 x Rust bl...</td>\n",
       "      <td>2004-07-07</td>\n",
       "      <td>4C - TFP / PM3 - 18 Months</td>\n",
       "      <td>Replace YW-Leg ( RL 25mts) &amp; ( RL 20mts.)- 2 x...</td>\n",
       "      <td>...</td>\n",
       "      <td>NaN</td>\n",
       "      <td>NaN</td>\n",
       "      <td>NaT</td>\n",
       "      <td>Feb  3 2005 11:50AM</td>\n",
       "      <td>NaT</td>\n",
       "      <td>NaT</td>\n",
       "      <td>joe.sweeney@au.abb.com</td>\n",
       "      <td>NaN</td>\n",
       "      <td>NaN</td>\n",
       "      <td>NaN</td>\n",
       "    </tr>\n",
       "    <tr>\n",
       "      <th>4</th>\n",
       "      <td>1115</td>\n",
       "      <td>WA001115</td>\n",
       "      <td>8125</td>\n",
       "      <td>WA001115-2</td>\n",
       "      <td>Planned Maintenance</td>\n",
       "      <td>WA001115_STR_1</td>\n",
       "      <td>YW,WZ,ZK tower legs suffering light corrosion ...</td>\n",
       "      <td>2022-03-24</td>\n",
       "      <td>4C - TFP / PM3 - 18 Months</td>\n",
       "      <td>IRM_231121_REF:022-Most affected is YW leg .Me...</td>\n",
       "      <td>...</td>\n",
       "      <td>NaN</td>\n",
       "      <td>NaN</td>\n",
       "      <td>NaT</td>\n",
       "      <td>Aug  3 2023  2:03PM</td>\n",
       "      <td>2023-08-03</td>\n",
       "      <td>NaT</td>\n",
       "      <td>Christopher Prause</td>\n",
       "      <td>NaN</td>\n",
       "      <td>NaN</td>\n",
       "      <td>NaN</td>\n",
       "    </tr>\n",
       "    <tr>\n",
       "      <th>...</th>\n",
       "      <td>...</td>\n",
       "      <td>...</td>\n",
       "      <td>...</td>\n",
       "      <td>...</td>\n",
       "      <td>...</td>\n",
       "      <td>...</td>\n",
       "      <td>...</td>\n",
       "      <td>...</td>\n",
       "      <td>...</td>\n",
       "      <td>...</td>\n",
       "      <td>...</td>\n",
       "      <td>...</td>\n",
       "      <td>...</td>\n",
       "      <td>...</td>\n",
       "      <td>...</td>\n",
       "      <td>...</td>\n",
       "      <td>...</td>\n",
       "      <td>...</td>\n",
       "      <td>...</td>\n",
       "      <td>...</td>\n",
       "      <td>...</td>\n",
       "    </tr>\n",
       "    <tr>\n",
       "      <th>7401</th>\n",
       "      <td>7638</td>\n",
       "      <td>VIC007638</td>\n",
       "      <td>48871</td>\n",
       "      <td>VIC007638-16</td>\n",
       "      <td>Planned Maintenance</td>\n",
       "      <td>VIC007638_STR_1</td>\n",
       "      <td>- cable tray vertical stringers 0m to 38m ,20%...</td>\n",
       "      <td>2023-03-21</td>\n",
       "      <td>3B - PM4 - 5 Years</td>\n",
       "      <td>IRM_010323: Replace Stringers and associated c...</td>\n",
       "      <td>...</td>\n",
       "      <td>NaN</td>\n",
       "      <td>NaN</td>\n",
       "      <td>2028-03-19</td>\n",
       "      <td>Mar 21 2023  2:09PM</td>\n",
       "      <td>2023-03-21</td>\n",
       "      <td>2023-03-21</td>\n",
       "      <td>Shaun O'malley</td>\n",
       "      <td>NaN</td>\n",
       "      <td>NaN</td>\n",
       "      <td>NaN</td>\n",
       "    </tr>\n",
       "    <tr>\n",
       "      <th>7402</th>\n",
       "      <td>561</td>\n",
       "      <td>NT000561</td>\n",
       "      <td>54431</td>\n",
       "      <td>NT000561-14</td>\n",
       "      <td>Planned Maintenance</td>\n",
       "      <td>NT000561_STR_1</td>\n",
       "      <td>Approx 10mtrs worth of horizontal braces suff...</td>\n",
       "      <td>2024-06-17</td>\n",
       "      <td>4B - PM3 - 4 Years</td>\n",
       "      <td>IRM_210524: Engineers to investigate if these ...</td>\n",
       "      <td>...</td>\n",
       "      <td>NaN</td>\n",
       "      <td>NaN</td>\n",
       "      <td>2028-06-16</td>\n",
       "      <td>Jun 17 2024  9:38PM</td>\n",
       "      <td>2024-06-17</td>\n",
       "      <td>2024-06-17</td>\n",
       "      <td>Shaun Omalley</td>\n",
       "      <td>NaN</td>\n",
       "      <td>NaN</td>\n",
       "      <td>NaN</td>\n",
       "    </tr>\n",
       "    <tr>\n",
       "      <th>7403</th>\n",
       "      <td>6029</td>\n",
       "      <td>QLD006029</td>\n",
       "      <td>54334</td>\n",
       "      <td>QLD006029-28</td>\n",
       "      <td>Minor Maintenance</td>\n",
       "      <td>QLD006029_STR_1</td>\n",
       "      <td>6x Ladder nuts on K face at the 40m level of ...</td>\n",
       "      <td>2024-05-30</td>\n",
       "      <td>3B - PM4 - 5 Years</td>\n",
       "      <td>IRM_170124: Nuts needed are old whitworth thre...</td>\n",
       "      <td>...</td>\n",
       "      <td>NaN</td>\n",
       "      <td>NaN</td>\n",
       "      <td>2029-05-29</td>\n",
       "      <td>May 30 2024  1:27PM</td>\n",
       "      <td>2024-05-30</td>\n",
       "      <td>2024-05-30</td>\n",
       "      <td>Shaun Omalley</td>\n",
       "      <td>NaN</td>\n",
       "      <td>NaN</td>\n",
       "      <td>NaN</td>\n",
       "    </tr>\n",
       "    <tr>\n",
       "      <th>7404</th>\n",
       "      <td>6881</td>\n",
       "      <td>NSW006881</td>\n",
       "      <td>48860</td>\n",
       "      <td>NSW006881-13</td>\n",
       "      <td>Planned Maintenance</td>\n",
       "      <td>NSW006881_STR_1</td>\n",
       "      <td>2 x earth straps have been welded to the towe...</td>\n",
       "      <td>2023-03-19</td>\n",
       "      <td>2C - PM4 - 5 Years</td>\n",
       "      <td>IRM_230223: Light corrosion present where eart...</td>\n",
       "      <td>...</td>\n",
       "      <td>NaN</td>\n",
       "      <td>NaN</td>\n",
       "      <td>2028-03-17</td>\n",
       "      <td>NaN</td>\n",
       "      <td>NaT</td>\n",
       "      <td>2023-03-19</td>\n",
       "      <td>NaN</td>\n",
       "      <td>NaN</td>\n",
       "      <td>NaN</td>\n",
       "      <td>NaN</td>\n",
       "    </tr>\n",
       "    <tr>\n",
       "      <th>7405</th>\n",
       "      <td>7419</td>\n",
       "      <td>VIC007419</td>\n",
       "      <td>53582</td>\n",
       "      <td>VIC007419-7</td>\n",
       "      <td>Planned Maintenance</td>\n",
       "      <td>VIC007419_STR_1</td>\n",
       "      <td>Structure concrete base cracks upto 3.19mm.</td>\n",
       "      <td>2024-01-09</td>\n",
       "      <td>2B - MON</td>\n",
       "      <td>RPAS IRM 12-12-23:  Cracks in concrete foundat...</td>\n",
       "      <td>...</td>\n",
       "      <td>NaN</td>\n",
       "      <td>NaN</td>\n",
       "      <td>NaT</td>\n",
       "      <td>Feb 14 2024  8:43AM</td>\n",
       "      <td>2024-02-14</td>\n",
       "      <td>2024-01-09</td>\n",
       "      <td>Bruce Smith</td>\n",
       "      <td>NaN</td>\n",
       "      <td>NaN</td>\n",
       "      <td>NaN</td>\n",
       "    </tr>\n",
       "  </tbody>\n",
       "</table>\n",
       "<p>7406 rows × 34 columns</p>\n",
       "</div>"
      ],
      "text/plain": [
       "      SiteId    SiteRef  SiteOpenIssueId       IssueID           Issue Type  \\\n",
       "0        242   SA000242             1452    SA000242-1  Planned Maintenance   \n",
       "1        222   SA000222             1336    SA000222-2  Planned Maintenance   \n",
       "2       4992  QLD004992            21950  QLD004992-35  Planned Maintenance   \n",
       "3        316   SA000316             1929   SA000316-12  Planned Maintenance   \n",
       "4       1115   WA001115             8125    WA001115-2  Planned Maintenance   \n",
       "...      ...        ...              ...           ...                  ...   \n",
       "7401    7638  VIC007638            48871  VIC007638-16  Planned Maintenance   \n",
       "7402     561   NT000561            54431   NT000561-14  Planned Maintenance   \n",
       "7403    6029  QLD006029            54334  QLD006029-28    Minor Maintenance   \n",
       "7404    6881  NSW006881            48860  NSW006881-13  Planned Maintenance   \n",
       "7405    7419  VIC007419            53582   VIC007419-7  Planned Maintenance   \n",
       "\n",
       "          AMSAssetRef                                   IssueDescription  \\\n",
       "0      SA000242_STR_1                Z shelter doors suffering corrosion   \n",
       "1      SA000222_STR_1  Z shelter doors and frame structure members su...   \n",
       "2     QLD004992_STR_1         Z face 20m heavy corrosion on bolts KZ leg   \n",
       "3      SA000316_STR_1  YW-Leg ( RL 25mts) & ( RL 20mts.)- 2 x Rust bl...   \n",
       "4      WA001115_STR_1  YW,WZ,ZK tower legs suffering light corrosion ...   \n",
       "...               ...                                                ...   \n",
       "7401  VIC007638_STR_1  - cable tray vertical stringers 0m to 38m ,20%...   \n",
       "7402   NT000561_STR_1   Approx 10mtrs worth of horizontal braces suff...   \n",
       "7403  QLD006029_STR_1   6x Ladder nuts on K face at the 40m level of ...   \n",
       "7404  NSW006881_STR_1   2 x earth straps have been welded to the towe...   \n",
       "7405  VIC007419_STR_1        Structure concrete base cracks upto 3.19mm.   \n",
       "\n",
       "     IssueCreated                  RiskRating  \\\n",
       "0      2020-01-20                    1E - NSV   \n",
       "1      2021-03-15          2C - PM4 - 5 Years   \n",
       "2      2014-05-28  4C - TFP / PM3 - 18 Months   \n",
       "3      2004-07-07  4C - TFP / PM3 - 18 Months   \n",
       "4      2022-03-24  4C - TFP / PM3 - 18 Months   \n",
       "...           ...                         ...   \n",
       "7401   2023-03-21          3B - PM4 - 5 Years   \n",
       "7402   2024-06-17          4B - PM3 - 4 Years   \n",
       "7403   2024-05-30          3B - PM4 - 5 Years   \n",
       "7404   2023-03-19          2C - PM4 - 5 Years   \n",
       "7405   2024-01-09                    2B - MON   \n",
       "\n",
       "                                           WorkRequired  ... OpExEstimate  \\\n",
       "0     Treat (wire brush & galmet) the spots of corro...  ...          NaN   \n",
       "1     Wire brrushed, cleaned, treated with galmet. M...  ...          NaN   \n",
       "2     Replace bolts M20x50. Treat corrosion and repaint  ...          NaN   \n",
       "3     Replace YW-Leg ( RL 25mts) & ( RL 20mts.)- 2 x...  ...          NaN   \n",
       "4     IRM_231121_REF:022-Most affected is YW leg .Me...  ...          NaN   \n",
       "...                                                 ...  ...          ...   \n",
       "7401  IRM_010323: Replace Stringers and associated c...  ...          NaN   \n",
       "7402  IRM_210524: Engineers to investigate if these ...  ...          NaN   \n",
       "7403  IRM_170124: Nuts needed are old whitworth thre...  ...          NaN   \n",
       "7404  IRM_230223: Light corrosion present where eart...  ...          NaN   \n",
       "7405  RPAS IRM 12-12-23:  Cracks in concrete foundat...  ...          NaN   \n",
       "\n",
       "     CapExEstimate ReviewDate      DateLastUpdated _LastEditDate _CreatedDate  \\\n",
       "0              NaN 2024-12-17                  NaN           NaT          NaT   \n",
       "1              NaN 2025-12-04  Aug  3 2023  1:28PM    2023-08-03          NaT   \n",
       "2              NaN        NaT  Oct 27 2021  2:55PM           NaT          NaT   \n",
       "3              NaN        NaT  Feb  3 2005 11:50AM           NaT          NaT   \n",
       "4              NaN        NaT  Aug  3 2023  2:03PM    2023-08-03          NaT   \n",
       "...            ...        ...                  ...           ...          ...   \n",
       "7401           NaN 2028-03-19  Mar 21 2023  2:09PM    2023-03-21   2023-03-21   \n",
       "7402           NaN 2028-06-16  Jun 17 2024  9:38PM    2024-06-17   2024-06-17   \n",
       "7403           NaN 2029-05-29  May 30 2024  1:27PM    2024-05-30   2024-05-30   \n",
       "7404           NaN 2028-03-17                  NaN           NaT   2023-03-19   \n",
       "7405           NaN        NaT  Feb 14 2024  8:43AM    2024-02-14   2024-01-09   \n",
       "\n",
       "                      UserLastUpdated ResourcesNeeded CreatedbyProject  \\\n",
       "0                                 NaN             NaN              NaN   \n",
       "1                  Christopher Prause             NaN              NaN   \n",
       "2     Peter.R.Grogan@team.telstra.com             NaN              NaN   \n",
       "3              joe.sweeney@au.abb.com             NaN              NaN   \n",
       "4                  Christopher Prause             NaN              NaN   \n",
       "...                               ...             ...              ...   \n",
       "7401                   Shaun O'malley             NaN              NaN   \n",
       "7402                    Shaun Omalley             NaN              NaN   \n",
       "7403                    Shaun Omalley             NaN              NaN   \n",
       "7404                              NaN             NaN              NaN   \n",
       "7405                      Bruce Smith             NaN              NaN   \n",
       "\n",
       "      PMProjectRef  \n",
       "0              NaN  \n",
       "1              NaN  \n",
       "2              NaN  \n",
       "3              NaN  \n",
       "4              NaN  \n",
       "...            ...  \n",
       "7401           NaN  \n",
       "7402           NaN  \n",
       "7403           NaN  \n",
       "7404           NaN  \n",
       "7405           NaN  \n",
       "\n",
       "[7406 rows x 34 columns]"
      ]
     },
     "execution_count": 59,
     "metadata": {},
     "output_type": "execute_result"
    }
   ],
   "source": [
    "import pandas as pd\n",
    "corr_issues = pd.read_excel('meeting_corrosion_rows.xlsx')\n",
    "corr_issues"
   ]
  },
  {
   "cell_type": "code",
   "execution_count": 60,
   "id": "b97a2b33",
   "metadata": {},
   "outputs": [
    {
     "data": {
      "text/plain": [
       "array(['SA000242_STR_1', 'SA000222_STR_1', 'QLD004992_STR_1', ...,\n",
       "       'SA000837_STR_1', 'QLD003700_STR_1', 'WA004660_STR_1'],\n",
       "      dtype=object)"
      ]
     },
     "execution_count": 60,
     "metadata": {},
     "output_type": "execute_result"
    }
   ],
   "source": [
    "tower_corr = corr_issues['AMSAssetRef'].unique()\n",
    "tower_corr"
   ]
  },
  {
   "cell_type": "code",
   "execution_count": null,
   "id": "27cfa7d9",
   "metadata": {},
   "outputs": [
    {
     "data": {
      "text/html": [
       "<div>\n",
       "<style scoped>\n",
       "    .dataframe tbody tr th:only-of-type {\n",
       "        vertical-align: middle;\n",
       "    }\n",
       "\n",
       "    .dataframe tbody tr th {\n",
       "        vertical-align: top;\n",
       "    }\n",
       "\n",
       "    .dataframe thead th {\n",
       "        text-align: right;\n",
       "    }\n",
       "</style>\n",
       "<table border=\"1\" class=\"dataframe\">\n",
       "  <thead>\n",
       "    <tr style=\"text-align: right;\">\n",
       "      <th></th>\n",
       "      <th>Unnamed: 0</th>\n",
       "      <th>Date</th>\n",
       "      <th>Day</th>\n",
       "      <th>T.Max</th>\n",
       "      <th>Smx</th>\n",
       "      <th>T.Min</th>\n",
       "      <th>Smn</th>\n",
       "      <th>Rain</th>\n",
       "      <th>Srn</th>\n",
       "      <th>Evap</th>\n",
       "      <th>...</th>\n",
       "      <th>Radn</th>\n",
       "      <th>Ssl</th>\n",
       "      <th>VP</th>\n",
       "      <th>Svp</th>\n",
       "      <th>RHmaxT</th>\n",
       "      <th>RHminT</th>\n",
       "      <th>Date2</th>\n",
       "      <th>AMSAssetRef</th>\n",
       "      <th>Latitude</th>\n",
       "      <th>Longitude</th>\n",
       "    </tr>\n",
       "  </thead>\n",
       "  <tbody>\n",
       "    <tr>\n",
       "      <th>1</th>\n",
       "      <td>253104</td>\n",
       "      <td>20031211</td>\n",
       "      <td>345</td>\n",
       "      <td>31.2</td>\n",
       "      <td>25</td>\n",
       "      <td>19.5</td>\n",
       "      <td>25</td>\n",
       "      <td>0.0</td>\n",
       "      <td>25</td>\n",
       "      <td>10.1</td>\n",
       "      <td>...</td>\n",
       "      <td>31.6</td>\n",
       "      <td>42</td>\n",
       "      <td>13.8</td>\n",
       "      <td>25</td>\n",
       "      <td>30.4</td>\n",
       "      <td>60.9</td>\n",
       "      <td>11/12/2003</td>\n",
       "      <td>NSW000054_STR_1</td>\n",
       "      <td>-33.500835</td>\n",
       "      <td>145.542710</td>\n",
       "    </tr>\n",
       "    <tr>\n",
       "      <th>2</th>\n",
       "      <td>253105</td>\n",
       "      <td>20031212</td>\n",
       "      <td>346</td>\n",
       "      <td>33.8</td>\n",
       "      <td>25</td>\n",
       "      <td>17.8</td>\n",
       "      <td>25</td>\n",
       "      <td>0.0</td>\n",
       "      <td>25</td>\n",
       "      <td>12.3</td>\n",
       "      <td>...</td>\n",
       "      <td>32.9</td>\n",
       "      <td>42</td>\n",
       "      <td>12.2</td>\n",
       "      <td>25</td>\n",
       "      <td>23.2</td>\n",
       "      <td>59.9</td>\n",
       "      <td>12/12/2003</td>\n",
       "      <td>NSW000054_STR_1</td>\n",
       "      <td>-33.500835</td>\n",
       "      <td>145.542710</td>\n",
       "    </tr>\n",
       "    <tr>\n",
       "      <th>3</th>\n",
       "      <td>253106</td>\n",
       "      <td>20031213</td>\n",
       "      <td>347</td>\n",
       "      <td>28.0</td>\n",
       "      <td>25</td>\n",
       "      <td>15.7</td>\n",
       "      <td>25</td>\n",
       "      <td>0.0</td>\n",
       "      <td>25</td>\n",
       "      <td>10.7</td>\n",
       "      <td>...</td>\n",
       "      <td>33.5</td>\n",
       "      <td>42</td>\n",
       "      <td>9.0</td>\n",
       "      <td>25</td>\n",
       "      <td>23.8</td>\n",
       "      <td>50.5</td>\n",
       "      <td>13/12/2003</td>\n",
       "      <td>NSW000054_STR_1</td>\n",
       "      <td>-33.500835</td>\n",
       "      <td>145.542710</td>\n",
       "    </tr>\n",
       "    <tr>\n",
       "      <th>4</th>\n",
       "      <td>253107</td>\n",
       "      <td>20031214</td>\n",
       "      <td>348</td>\n",
       "      <td>32.0</td>\n",
       "      <td>25</td>\n",
       "      <td>14.4</td>\n",
       "      <td>25</td>\n",
       "      <td>0.0</td>\n",
       "      <td>25</td>\n",
       "      <td>10.8</td>\n",
       "      <td>...</td>\n",
       "      <td>33.6</td>\n",
       "      <td>42</td>\n",
       "      <td>10.9</td>\n",
       "      <td>25</td>\n",
       "      <td>22.9</td>\n",
       "      <td>66.5</td>\n",
       "      <td>14/12/2003</td>\n",
       "      <td>NSW000054_STR_1</td>\n",
       "      <td>-33.500835</td>\n",
       "      <td>145.542710</td>\n",
       "    </tr>\n",
       "    <tr>\n",
       "      <th>5</th>\n",
       "      <td>253108</td>\n",
       "      <td>20031215</td>\n",
       "      <td>349</td>\n",
       "      <td>35.5</td>\n",
       "      <td>25</td>\n",
       "      <td>16.8</td>\n",
       "      <td>25</td>\n",
       "      <td>0.0</td>\n",
       "      <td>25</td>\n",
       "      <td>11.4</td>\n",
       "      <td>...</td>\n",
       "      <td>33.6</td>\n",
       "      <td>42</td>\n",
       "      <td>13.5</td>\n",
       "      <td>25</td>\n",
       "      <td>23.4</td>\n",
       "      <td>70.6</td>\n",
       "      <td>15/12/2003</td>\n",
       "      <td>NSW000054_STR_1</td>\n",
       "      <td>-33.500835</td>\n",
       "      <td>145.542710</td>\n",
       "    </tr>\n",
       "    <tr>\n",
       "      <th>...</th>\n",
       "      <td>...</td>\n",
       "      <td>...</td>\n",
       "      <td>...</td>\n",
       "      <td>...</td>\n",
       "      <td>...</td>\n",
       "      <td>...</td>\n",
       "      <td>...</td>\n",
       "      <td>...</td>\n",
       "      <td>...</td>\n",
       "      <td>...</td>\n",
       "      <td>...</td>\n",
       "      <td>...</td>\n",
       "      <td>...</td>\n",
       "      <td>...</td>\n",
       "      <td>...</td>\n",
       "      <td>...</td>\n",
       "      <td>...</td>\n",
       "      <td>...</td>\n",
       "      <td>...</td>\n",
       "      <td>...</td>\n",
       "      <td>...</td>\n",
       "    </tr>\n",
       "    <tr>\n",
       "      <th>4349452</th>\n",
       "      <td>19764590</td>\n",
       "      <td>20250521</td>\n",
       "      <td>141</td>\n",
       "      <td>20.5</td>\n",
       "      <td>25</td>\n",
       "      <td>6.5</td>\n",
       "      <td>25</td>\n",
       "      <td>0.0</td>\n",
       "      <td>25</td>\n",
       "      <td>1.8</td>\n",
       "      <td>...</td>\n",
       "      <td>11.6</td>\n",
       "      <td>42</td>\n",
       "      <td>11.7</td>\n",
       "      <td>25</td>\n",
       "      <td>48.5</td>\n",
       "      <td>100.0</td>\n",
       "      <td>21/05/2025</td>\n",
       "      <td>WA006189_STR_1</td>\n",
       "      <td>-34.996909</td>\n",
       "      <td>117.927505</td>\n",
       "    </tr>\n",
       "    <tr>\n",
       "      <th>4349453</th>\n",
       "      <td>19764591</td>\n",
       "      <td>20250522</td>\n",
       "      <td>142</td>\n",
       "      <td>22.4</td>\n",
       "      <td>25</td>\n",
       "      <td>8.0</td>\n",
       "      <td>25</td>\n",
       "      <td>0.0</td>\n",
       "      <td>25</td>\n",
       "      <td>4.5</td>\n",
       "      <td>...</td>\n",
       "      <td>10.3</td>\n",
       "      <td>42</td>\n",
       "      <td>12.5</td>\n",
       "      <td>25</td>\n",
       "      <td>46.2</td>\n",
       "      <td>100.0</td>\n",
       "      <td>22/05/2025</td>\n",
       "      <td>WA006189_STR_1</td>\n",
       "      <td>-34.996909</td>\n",
       "      <td>117.927505</td>\n",
       "    </tr>\n",
       "    <tr>\n",
       "      <th>4349454</th>\n",
       "      <td>19764592</td>\n",
       "      <td>20250523</td>\n",
       "      <td>143</td>\n",
       "      <td>14.5</td>\n",
       "      <td>25</td>\n",
       "      <td>8.7</td>\n",
       "      <td>25</td>\n",
       "      <td>18.6</td>\n",
       "      <td>25</td>\n",
       "      <td>2.5</td>\n",
       "      <td>...</td>\n",
       "      <td>7.4</td>\n",
       "      <td>42</td>\n",
       "      <td>11.3</td>\n",
       "      <td>25</td>\n",
       "      <td>68.5</td>\n",
       "      <td>100.0</td>\n",
       "      <td>23/05/2025</td>\n",
       "      <td>WA006189_STR_1</td>\n",
       "      <td>-34.996909</td>\n",
       "      <td>117.927505</td>\n",
       "    </tr>\n",
       "    <tr>\n",
       "      <th>4349455</th>\n",
       "      <td>19764593</td>\n",
       "      <td>20250524</td>\n",
       "      <td>144</td>\n",
       "      <td>16.2</td>\n",
       "      <td>25</td>\n",
       "      <td>6.0</td>\n",
       "      <td>25</td>\n",
       "      <td>7.3</td>\n",
       "      <td>25</td>\n",
       "      <td>3.3</td>\n",
       "      <td>...</td>\n",
       "      <td>11.0</td>\n",
       "      <td>42</td>\n",
       "      <td>11.0</td>\n",
       "      <td>25</td>\n",
       "      <td>59.8</td>\n",
       "      <td>100.0</td>\n",
       "      <td>24/05/2025</td>\n",
       "      <td>WA006189_STR_1</td>\n",
       "      <td>-34.996909</td>\n",
       "      <td>117.927505</td>\n",
       "    </tr>\n",
       "    <tr>\n",
       "      <th>4349456</th>\n",
       "      <td>19764594</td>\n",
       "      <td>20250525</td>\n",
       "      <td>145</td>\n",
       "      <td>15.0</td>\n",
       "      <td>25</td>\n",
       "      <td>9.9</td>\n",
       "      <td>25</td>\n",
       "      <td>10.4</td>\n",
       "      <td>25</td>\n",
       "      <td>3.2</td>\n",
       "      <td>...</td>\n",
       "      <td>9.6</td>\n",
       "      <td>42</td>\n",
       "      <td>10.8</td>\n",
       "      <td>25</td>\n",
       "      <td>63.4</td>\n",
       "      <td>88.6</td>\n",
       "      <td>25/05/2025</td>\n",
       "      <td>WA006189_STR_1</td>\n",
       "      <td>-34.996909</td>\n",
       "      <td>117.927505</td>\n",
       "    </tr>\n",
       "  </tbody>\n",
       "</table>\n",
       "<p>4349456 rows × 21 columns</p>\n",
       "</div>"
      ],
      "text/plain": [
       "         Unnamed: 0      Date  Day T.Max Smx T.Min Smn  Rain Srn  Evap  ...  \\\n",
       "1            253104  20031211  345  31.2  25  19.5  25   0.0  25  10.1  ...   \n",
       "2            253105  20031212  346  33.8  25  17.8  25   0.0  25  12.3  ...   \n",
       "3            253106  20031213  347  28.0  25  15.7  25   0.0  25  10.7  ...   \n",
       "4            253107  20031214  348  32.0  25  14.4  25   0.0  25  10.8  ...   \n",
       "5            253108  20031215  349  35.5  25  16.8  25   0.0  25  11.4  ...   \n",
       "...             ...       ...  ...   ...  ..   ...  ..   ...  ..   ...  ...   \n",
       "4349452    19764590  20250521  141  20.5  25   6.5  25   0.0  25   1.8  ...   \n",
       "4349453    19764591  20250522  142  22.4  25   8.0  25   0.0  25   4.5  ...   \n",
       "4349454    19764592  20250523  143  14.5  25   8.7  25  18.6  25   2.5  ...   \n",
       "4349455    19764593  20250524  144  16.2  25   6.0  25   7.3  25   3.3  ...   \n",
       "4349456    19764594  20250525  145  15.0  25   9.9  25  10.4  25   3.2  ...   \n",
       "\n",
       "         Radn Ssl    VP Svp RHmaxT RHminT       Date2      AMSAssetRef  \\\n",
       "1        31.6  42  13.8  25   30.4   60.9  11/12/2003  NSW000054_STR_1   \n",
       "2        32.9  42  12.2  25   23.2   59.9  12/12/2003  NSW000054_STR_1   \n",
       "3        33.5  42   9.0  25   23.8   50.5  13/12/2003  NSW000054_STR_1   \n",
       "4        33.6  42  10.9  25   22.9   66.5  14/12/2003  NSW000054_STR_1   \n",
       "5        33.6  42  13.5  25   23.4   70.6  15/12/2003  NSW000054_STR_1   \n",
       "...       ...  ..   ...  ..    ...    ...         ...              ...   \n",
       "4349452  11.6  42  11.7  25   48.5  100.0  21/05/2025   WA006189_STR_1   \n",
       "4349453  10.3  42  12.5  25   46.2  100.0  22/05/2025   WA006189_STR_1   \n",
       "4349454   7.4  42  11.3  25   68.5  100.0  23/05/2025   WA006189_STR_1   \n",
       "4349455  11.0  42  11.0  25   59.8  100.0  24/05/2025   WA006189_STR_1   \n",
       "4349456   9.6  42  10.8  25   63.4   88.6  25/05/2025   WA006189_STR_1   \n",
       "\n",
       "          Latitude   Longitude  \n",
       "1       -33.500835  145.542710  \n",
       "2       -33.500835  145.542710  \n",
       "3       -33.500835  145.542710  \n",
       "4       -33.500835  145.542710  \n",
       "5       -33.500835  145.542710  \n",
       "...            ...         ...  \n",
       "4349452 -34.996909  117.927505  \n",
       "4349453 -34.996909  117.927505  \n",
       "4349454 -34.996909  117.927505  \n",
       "4349455 -34.996909  117.927505  \n",
       "4349456 -34.996909  117.927505  \n",
       "\n",
       "[4349456 rows x 21 columns]"
      ]
     },
     "execution_count": 19,
     "metadata": {},
     "output_type": "execute_result"
    }
   ],
   "source": [
    "#silo_corr = pd.read_csv('silo_corrosion.csv')\n",
    "#silo_corr = silo_corr[1:]\n",
    "#silo_corr"
   ]
  },
  {
   "cell_type": "code",
   "execution_count": 61,
   "id": "2b2f31b4",
   "metadata": {},
   "outputs": [],
   "source": [
    "df = pd.read_excel('Structure Details _ 17March2025.xlsx', sheet_name='Amplitel Structure Details')\n",
    "df = df[df['AMSAssetRef'].isin(tower_corr)]"
   ]
  },
  {
   "cell_type": "code",
   "execution_count": 62,
   "id": "b70f698c",
   "metadata": {},
   "outputs": [],
   "source": [
    "df = df[['AMSAssetRef', 'CorrosionRegionType', 'WindRegionType', 'StructureClassCode', 'Height', 'StructureInstallationDate']]"
   ]
  },
  {
   "cell_type": "code",
   "execution_count": null,
   "id": "cb2e53f6",
   "metadata": {},
   "outputs": [
    {
     "data": {
      "text/html": [
       "<div>\n",
       "<style scoped>\n",
       "    .dataframe tbody tr th:only-of-type {\n",
       "        vertical-align: middle;\n",
       "    }\n",
       "\n",
       "    .dataframe tbody tr th {\n",
       "        vertical-align: top;\n",
       "    }\n",
       "\n",
       "    .dataframe thead th {\n",
       "        text-align: right;\n",
       "    }\n",
       "</style>\n",
       "<table border=\"1\" class=\"dataframe\">\n",
       "  <thead>\n",
       "    <tr style=\"text-align: right;\">\n",
       "      <th></th>\n",
       "      <th>Unnamed: 0</th>\n",
       "      <th>Date</th>\n",
       "      <th>Day</th>\n",
       "      <th>T.Max</th>\n",
       "      <th>Smx</th>\n",
       "      <th>T.Min</th>\n",
       "      <th>Smn</th>\n",
       "      <th>Rain</th>\n",
       "      <th>Srn</th>\n",
       "      <th>Evap</th>\n",
       "      <th>...</th>\n",
       "      <th>RHmaxT</th>\n",
       "      <th>RHminT</th>\n",
       "      <th>Date2</th>\n",
       "      <th>AMSAssetRef</th>\n",
       "      <th>Latitude</th>\n",
       "      <th>Longitude</th>\n",
       "      <th>CorrosionRegionType</th>\n",
       "      <th>WindRegionType</th>\n",
       "      <th>StructureClassCode</th>\n",
       "      <th>Height</th>\n",
       "    </tr>\n",
       "  </thead>\n",
       "  <tbody>\n",
       "    <tr>\n",
       "      <th>0</th>\n",
       "      <td>253104</td>\n",
       "      <td>20031211</td>\n",
       "      <td>345</td>\n",
       "      <td>31.2</td>\n",
       "      <td>25</td>\n",
       "      <td>19.5</td>\n",
       "      <td>25</td>\n",
       "      <td>0.0</td>\n",
       "      <td>25</td>\n",
       "      <td>10.1</td>\n",
       "      <td>...</td>\n",
       "      <td>30.4</td>\n",
       "      <td>60.9</td>\n",
       "      <td>11/12/2003</td>\n",
       "      <td>NSW000054_STR_1</td>\n",
       "      <td>-33.500835</td>\n",
       "      <td>145.542710</td>\n",
       "      <td>B (Low)</td>\n",
       "      <td>A</td>\n",
       "      <td>MAST GUYED</td>\n",
       "      <td>100.0</td>\n",
       "    </tr>\n",
       "    <tr>\n",
       "      <th>1</th>\n",
       "      <td>253105</td>\n",
       "      <td>20031212</td>\n",
       "      <td>346</td>\n",
       "      <td>33.8</td>\n",
       "      <td>25</td>\n",
       "      <td>17.8</td>\n",
       "      <td>25</td>\n",
       "      <td>0.0</td>\n",
       "      <td>25</td>\n",
       "      <td>12.3</td>\n",
       "      <td>...</td>\n",
       "      <td>23.2</td>\n",
       "      <td>59.9</td>\n",
       "      <td>12/12/2003</td>\n",
       "      <td>NSW000054_STR_1</td>\n",
       "      <td>-33.500835</td>\n",
       "      <td>145.542710</td>\n",
       "      <td>B (Low)</td>\n",
       "      <td>A</td>\n",
       "      <td>MAST GUYED</td>\n",
       "      <td>100.0</td>\n",
       "    </tr>\n",
       "    <tr>\n",
       "      <th>2</th>\n",
       "      <td>253106</td>\n",
       "      <td>20031213</td>\n",
       "      <td>347</td>\n",
       "      <td>28.0</td>\n",
       "      <td>25</td>\n",
       "      <td>15.7</td>\n",
       "      <td>25</td>\n",
       "      <td>0.0</td>\n",
       "      <td>25</td>\n",
       "      <td>10.7</td>\n",
       "      <td>...</td>\n",
       "      <td>23.8</td>\n",
       "      <td>50.5</td>\n",
       "      <td>13/12/2003</td>\n",
       "      <td>NSW000054_STR_1</td>\n",
       "      <td>-33.500835</td>\n",
       "      <td>145.542710</td>\n",
       "      <td>B (Low)</td>\n",
       "      <td>A</td>\n",
       "      <td>MAST GUYED</td>\n",
       "      <td>100.0</td>\n",
       "    </tr>\n",
       "    <tr>\n",
       "      <th>3</th>\n",
       "      <td>253107</td>\n",
       "      <td>20031214</td>\n",
       "      <td>348</td>\n",
       "      <td>32.0</td>\n",
       "      <td>25</td>\n",
       "      <td>14.4</td>\n",
       "      <td>25</td>\n",
       "      <td>0.0</td>\n",
       "      <td>25</td>\n",
       "      <td>10.8</td>\n",
       "      <td>...</td>\n",
       "      <td>22.9</td>\n",
       "      <td>66.5</td>\n",
       "      <td>14/12/2003</td>\n",
       "      <td>NSW000054_STR_1</td>\n",
       "      <td>-33.500835</td>\n",
       "      <td>145.542710</td>\n",
       "      <td>B (Low)</td>\n",
       "      <td>A</td>\n",
       "      <td>MAST GUYED</td>\n",
       "      <td>100.0</td>\n",
       "    </tr>\n",
       "    <tr>\n",
       "      <th>4</th>\n",
       "      <td>253108</td>\n",
       "      <td>20031215</td>\n",
       "      <td>349</td>\n",
       "      <td>35.5</td>\n",
       "      <td>25</td>\n",
       "      <td>16.8</td>\n",
       "      <td>25</td>\n",
       "      <td>0.0</td>\n",
       "      <td>25</td>\n",
       "      <td>11.4</td>\n",
       "      <td>...</td>\n",
       "      <td>23.4</td>\n",
       "      <td>70.6</td>\n",
       "      <td>15/12/2003</td>\n",
       "      <td>NSW000054_STR_1</td>\n",
       "      <td>-33.500835</td>\n",
       "      <td>145.542710</td>\n",
       "      <td>B (Low)</td>\n",
       "      <td>A</td>\n",
       "      <td>MAST GUYED</td>\n",
       "      <td>100.0</td>\n",
       "    </tr>\n",
       "    <tr>\n",
       "      <th>...</th>\n",
       "      <td>...</td>\n",
       "      <td>...</td>\n",
       "      <td>...</td>\n",
       "      <td>...</td>\n",
       "      <td>...</td>\n",
       "      <td>...</td>\n",
       "      <td>...</td>\n",
       "      <td>...</td>\n",
       "      <td>...</td>\n",
       "      <td>...</td>\n",
       "      <td>...</td>\n",
       "      <td>...</td>\n",
       "      <td>...</td>\n",
       "      <td>...</td>\n",
       "      <td>...</td>\n",
       "      <td>...</td>\n",
       "      <td>...</td>\n",
       "      <td>...</td>\n",
       "      <td>...</td>\n",
       "      <td>...</td>\n",
       "      <td>...</td>\n",
       "    </tr>\n",
       "    <tr>\n",
       "      <th>3832138</th>\n",
       "      <td>19764590</td>\n",
       "      <td>20250521</td>\n",
       "      <td>141</td>\n",
       "      <td>20.5</td>\n",
       "      <td>25</td>\n",
       "      <td>6.5</td>\n",
       "      <td>25</td>\n",
       "      <td>0.0</td>\n",
       "      <td>25</td>\n",
       "      <td>1.8</td>\n",
       "      <td>...</td>\n",
       "      <td>48.5</td>\n",
       "      <td>100.0</td>\n",
       "      <td>21/05/2025</td>\n",
       "      <td>WA006189_STR_1</td>\n",
       "      <td>-34.996909</td>\n",
       "      <td>117.927505</td>\n",
       "      <td>E (Very High)</td>\n",
       "      <td>A</td>\n",
       "      <td>POLE CONCRETE</td>\n",
       "      <td>35.0</td>\n",
       "    </tr>\n",
       "    <tr>\n",
       "      <th>3832139</th>\n",
       "      <td>19764591</td>\n",
       "      <td>20250522</td>\n",
       "      <td>142</td>\n",
       "      <td>22.4</td>\n",
       "      <td>25</td>\n",
       "      <td>8.0</td>\n",
       "      <td>25</td>\n",
       "      <td>0.0</td>\n",
       "      <td>25</td>\n",
       "      <td>4.5</td>\n",
       "      <td>...</td>\n",
       "      <td>46.2</td>\n",
       "      <td>100.0</td>\n",
       "      <td>22/05/2025</td>\n",
       "      <td>WA006189_STR_1</td>\n",
       "      <td>-34.996909</td>\n",
       "      <td>117.927505</td>\n",
       "      <td>E (Very High)</td>\n",
       "      <td>A</td>\n",
       "      <td>POLE CONCRETE</td>\n",
       "      <td>35.0</td>\n",
       "    </tr>\n",
       "    <tr>\n",
       "      <th>3832140</th>\n",
       "      <td>19764592</td>\n",
       "      <td>20250523</td>\n",
       "      <td>143</td>\n",
       "      <td>14.5</td>\n",
       "      <td>25</td>\n",
       "      <td>8.7</td>\n",
       "      <td>25</td>\n",
       "      <td>18.6</td>\n",
       "      <td>25</td>\n",
       "      <td>2.5</td>\n",
       "      <td>...</td>\n",
       "      <td>68.5</td>\n",
       "      <td>100.0</td>\n",
       "      <td>23/05/2025</td>\n",
       "      <td>WA006189_STR_1</td>\n",
       "      <td>-34.996909</td>\n",
       "      <td>117.927505</td>\n",
       "      <td>E (Very High)</td>\n",
       "      <td>A</td>\n",
       "      <td>POLE CONCRETE</td>\n",
       "      <td>35.0</td>\n",
       "    </tr>\n",
       "    <tr>\n",
       "      <th>3832141</th>\n",
       "      <td>19764593</td>\n",
       "      <td>20250524</td>\n",
       "      <td>144</td>\n",
       "      <td>16.2</td>\n",
       "      <td>25</td>\n",
       "      <td>6.0</td>\n",
       "      <td>25</td>\n",
       "      <td>7.3</td>\n",
       "      <td>25</td>\n",
       "      <td>3.3</td>\n",
       "      <td>...</td>\n",
       "      <td>59.8</td>\n",
       "      <td>100.0</td>\n",
       "      <td>24/05/2025</td>\n",
       "      <td>WA006189_STR_1</td>\n",
       "      <td>-34.996909</td>\n",
       "      <td>117.927505</td>\n",
       "      <td>E (Very High)</td>\n",
       "      <td>A</td>\n",
       "      <td>POLE CONCRETE</td>\n",
       "      <td>35.0</td>\n",
       "    </tr>\n",
       "    <tr>\n",
       "      <th>3832142</th>\n",
       "      <td>19764594</td>\n",
       "      <td>20250525</td>\n",
       "      <td>145</td>\n",
       "      <td>15.0</td>\n",
       "      <td>25</td>\n",
       "      <td>9.9</td>\n",
       "      <td>25</td>\n",
       "      <td>10.4</td>\n",
       "      <td>25</td>\n",
       "      <td>3.2</td>\n",
       "      <td>...</td>\n",
       "      <td>63.4</td>\n",
       "      <td>88.6</td>\n",
       "      <td>25/05/2025</td>\n",
       "      <td>WA006189_STR_1</td>\n",
       "      <td>-34.996909</td>\n",
       "      <td>117.927505</td>\n",
       "      <td>E (Very High)</td>\n",
       "      <td>A</td>\n",
       "      <td>POLE CONCRETE</td>\n",
       "      <td>35.0</td>\n",
       "    </tr>\n",
       "  </tbody>\n",
       "</table>\n",
       "<p>3832143 rows × 25 columns</p>\n",
       "</div>"
      ],
      "text/plain": [
       "         Unnamed: 0      Date  Day T.Max Smx T.Min Smn  Rain Srn  Evap  ...  \\\n",
       "0            253104  20031211  345  31.2  25  19.5  25   0.0  25  10.1  ...   \n",
       "1            253105  20031212  346  33.8  25  17.8  25   0.0  25  12.3  ...   \n",
       "2            253106  20031213  347  28.0  25  15.7  25   0.0  25  10.7  ...   \n",
       "3            253107  20031214  348  32.0  25  14.4  25   0.0  25  10.8  ...   \n",
       "4            253108  20031215  349  35.5  25  16.8  25   0.0  25  11.4  ...   \n",
       "...             ...       ...  ...   ...  ..   ...  ..   ...  ..   ...  ...   \n",
       "3832138    19764590  20250521  141  20.5  25   6.5  25   0.0  25   1.8  ...   \n",
       "3832139    19764591  20250522  142  22.4  25   8.0  25   0.0  25   4.5  ...   \n",
       "3832140    19764592  20250523  143  14.5  25   8.7  25  18.6  25   2.5  ...   \n",
       "3832141    19764593  20250524  144  16.2  25   6.0  25   7.3  25   3.3  ...   \n",
       "3832142    19764594  20250525  145  15.0  25   9.9  25  10.4  25   3.2  ...   \n",
       "\n",
       "        RHmaxT RHminT       Date2      AMSAssetRef   Latitude   Longitude  \\\n",
       "0         30.4   60.9  11/12/2003  NSW000054_STR_1 -33.500835  145.542710   \n",
       "1         23.2   59.9  12/12/2003  NSW000054_STR_1 -33.500835  145.542710   \n",
       "2         23.8   50.5  13/12/2003  NSW000054_STR_1 -33.500835  145.542710   \n",
       "3         22.9   66.5  14/12/2003  NSW000054_STR_1 -33.500835  145.542710   \n",
       "4         23.4   70.6  15/12/2003  NSW000054_STR_1 -33.500835  145.542710   \n",
       "...        ...    ...         ...              ...        ...         ...   \n",
       "3832138   48.5  100.0  21/05/2025   WA006189_STR_1 -34.996909  117.927505   \n",
       "3832139   46.2  100.0  22/05/2025   WA006189_STR_1 -34.996909  117.927505   \n",
       "3832140   68.5  100.0  23/05/2025   WA006189_STR_1 -34.996909  117.927505   \n",
       "3832141   59.8  100.0  24/05/2025   WA006189_STR_1 -34.996909  117.927505   \n",
       "3832142   63.4   88.6  25/05/2025   WA006189_STR_1 -34.996909  117.927505   \n",
       "\n",
       "        CorrosionRegionType WindRegionType StructureClassCode  Height  \n",
       "0                   B (Low)              A         MAST GUYED   100.0  \n",
       "1                   B (Low)              A         MAST GUYED   100.0  \n",
       "2                   B (Low)              A         MAST GUYED   100.0  \n",
       "3                   B (Low)              A         MAST GUYED   100.0  \n",
       "4                   B (Low)              A         MAST GUYED   100.0  \n",
       "...                     ...            ...                ...     ...  \n",
       "3832138       E (Very High)              A      POLE CONCRETE    35.0  \n",
       "3832139       E (Very High)              A      POLE CONCRETE    35.0  \n",
       "3832140       E (Very High)              A      POLE CONCRETE    35.0  \n",
       "3832141       E (Very High)              A      POLE CONCRETE    35.0  \n",
       "3832142       E (Very High)              A      POLE CONCRETE    35.0  \n",
       "\n",
       "[3832143 rows x 25 columns]"
      ]
     },
     "execution_count": 9,
     "metadata": {},
     "output_type": "execute_result"
    }
   ],
   "source": [
    "#silo_corr = pd.merge(silo_corr, df, on='AMSAssetRef', how='inner')\n",
    "#silo_corr"
   ]
  },
  {
   "cell_type": "code",
   "execution_count": null,
   "id": "84007348",
   "metadata": {},
   "outputs": [
    {
     "data": {
      "text/html": [
       "<div>\n",
       "<style scoped>\n",
       "    .dataframe tbody tr th:only-of-type {\n",
       "        vertical-align: middle;\n",
       "    }\n",
       "\n",
       "    .dataframe tbody tr th {\n",
       "        vertical-align: top;\n",
       "    }\n",
       "\n",
       "    .dataframe thead th {\n",
       "        text-align: right;\n",
       "    }\n",
       "</style>\n",
       "<table border=\"1\" class=\"dataframe\">\n",
       "  <thead>\n",
       "    <tr style=\"text-align: right;\">\n",
       "      <th></th>\n",
       "      <th>AMSAssetRef</th>\n",
       "      <th>Latitude</th>\n",
       "      <th>Longitude</th>\n",
       "      <th>CorrosionRegionType</th>\n",
       "      <th>WindRegionType</th>\n",
       "      <th>StructureClassCode</th>\n",
       "      <th>Height</th>\n",
       "    </tr>\n",
       "  </thead>\n",
       "  <tbody>\n",
       "    <tr>\n",
       "      <th>0</th>\n",
       "      <td>NSW000054_STR_1</td>\n",
       "      <td>-33.500835</td>\n",
       "      <td>145.542710</td>\n",
       "      <td>B (Low)</td>\n",
       "      <td>A</td>\n",
       "      <td>MAST GUYED</td>\n",
       "      <td>100.0</td>\n",
       "    </tr>\n",
       "    <tr>\n",
       "      <th>7837</th>\n",
       "      <td>NSW000878_STR_1</td>\n",
       "      <td>-32.019540</td>\n",
       "      <td>149.395070</td>\n",
       "      <td>B (Low)</td>\n",
       "      <td>A</td>\n",
       "      <td>TOWER STEEL</td>\n",
       "      <td>30.0</td>\n",
       "    </tr>\n",
       "    <tr>\n",
       "      <th>15675</th>\n",
       "      <td>NSW001788_STR_1</td>\n",
       "      <td>-29.254800</td>\n",
       "      <td>150.821300</td>\n",
       "      <td>B (Low)</td>\n",
       "      <td>A</td>\n",
       "      <td>MAST GUYED</td>\n",
       "      <td>80.0</td>\n",
       "    </tr>\n",
       "    <tr>\n",
       "      <th>23513</th>\n",
       "      <td>NSW001791_STR_1</td>\n",
       "      <td>-31.564348</td>\n",
       "      <td>143.260900</td>\n",
       "      <td>B (Low)</td>\n",
       "      <td>A</td>\n",
       "      <td>MAST GUYED</td>\n",
       "      <td>100.0</td>\n",
       "    </tr>\n",
       "    <tr>\n",
       "      <th>31351</th>\n",
       "      <td>NSW001807_STR_1</td>\n",
       "      <td>-32.951950</td>\n",
       "      <td>151.746960</td>\n",
       "      <td>E (Very High)</td>\n",
       "      <td>A</td>\n",
       "      <td>POLE STEEL</td>\n",
       "      <td>15.0</td>\n",
       "    </tr>\n",
       "    <tr>\n",
       "      <th>...</th>\n",
       "      <td>...</td>\n",
       "      <td>...</td>\n",
       "      <td>...</td>\n",
       "      <td>...</td>\n",
       "      <td>...</td>\n",
       "      <td>...</td>\n",
       "      <td>...</td>\n",
       "    </tr>\n",
       "    <tr>\n",
       "      <th>3821729</th>\n",
       "      <td>WA006108_STR_1</td>\n",
       "      <td>-34.301300</td>\n",
       "      <td>116.232790</td>\n",
       "      <td>B (Low)</td>\n",
       "      <td>A</td>\n",
       "      <td>TOWER STEEL</td>\n",
       "      <td>60.0</td>\n",
       "    </tr>\n",
       "    <tr>\n",
       "      <th>3824152</th>\n",
       "      <td>WA006119_STR_1</td>\n",
       "      <td>-24.833986</td>\n",
       "      <td>113.771624</td>\n",
       "      <td>B (Low)</td>\n",
       "      <td>D</td>\n",
       "      <td>TOWER STEEL</td>\n",
       "      <td>60.0</td>\n",
       "    </tr>\n",
       "    <tr>\n",
       "      <th>3826508</th>\n",
       "      <td>WA006182_STR_1</td>\n",
       "      <td>-30.004400</td>\n",
       "      <td>116.356700</td>\n",
       "      <td>B (Low)</td>\n",
       "      <td>A</td>\n",
       "      <td>MAST GUYED</td>\n",
       "      <td>60.0</td>\n",
       "    </tr>\n",
       "    <tr>\n",
       "      <th>3828788</th>\n",
       "      <td>WA006183_STR_1</td>\n",
       "      <td>-33.340924</td>\n",
       "      <td>119.848618</td>\n",
       "      <td>B (Low)</td>\n",
       "      <td>A</td>\n",
       "      <td>POLE CONCRETE</td>\n",
       "      <td>40.0</td>\n",
       "    </tr>\n",
       "    <tr>\n",
       "      <th>3831029</th>\n",
       "      <td>WA006189_STR_1</td>\n",
       "      <td>-34.996909</td>\n",
       "      <td>117.927505</td>\n",
       "      <td>E (Very High)</td>\n",
       "      <td>A</td>\n",
       "      <td>POLE CONCRETE</td>\n",
       "      <td>35.0</td>\n",
       "    </tr>\n",
       "  </tbody>\n",
       "</table>\n",
       "<p>633 rows × 7 columns</p>\n",
       "</div>"
      ],
      "text/plain": [
       "             AMSAssetRef   Latitude   Longitude CorrosionRegionType  \\\n",
       "0        NSW000054_STR_1 -33.500835  145.542710             B (Low)   \n",
       "7837     NSW000878_STR_1 -32.019540  149.395070             B (Low)   \n",
       "15675    NSW001788_STR_1 -29.254800  150.821300             B (Low)   \n",
       "23513    NSW001791_STR_1 -31.564348  143.260900             B (Low)   \n",
       "31351    NSW001807_STR_1 -32.951950  151.746960       E (Very High)   \n",
       "...                  ...        ...         ...                 ...   \n",
       "3821729   WA006108_STR_1 -34.301300  116.232790             B (Low)   \n",
       "3824152   WA006119_STR_1 -24.833986  113.771624             B (Low)   \n",
       "3826508   WA006182_STR_1 -30.004400  116.356700             B (Low)   \n",
       "3828788   WA006183_STR_1 -33.340924  119.848618             B (Low)   \n",
       "3831029   WA006189_STR_1 -34.996909  117.927505       E (Very High)   \n",
       "\n",
       "        WindRegionType StructureClassCode  Height  \n",
       "0                    A         MAST GUYED   100.0  \n",
       "7837                 A        TOWER STEEL    30.0  \n",
       "15675                A         MAST GUYED    80.0  \n",
       "23513                A         MAST GUYED   100.0  \n",
       "31351                A         POLE STEEL    15.0  \n",
       "...                ...                ...     ...  \n",
       "3821729              A        TOWER STEEL    60.0  \n",
       "3824152              D        TOWER STEEL    60.0  \n",
       "3826508              A         MAST GUYED    60.0  \n",
       "3828788              A      POLE CONCRETE    40.0  \n",
       "3831029              A      POLE CONCRETE    35.0  \n",
       "\n",
       "[633 rows x 7 columns]"
      ]
     },
     "execution_count": 10,
     "metadata": {},
     "output_type": "execute_result"
    }
   ],
   "source": [
    "#unique_coords = silo_corr[['AMSAssetRef', 'Latitude', 'Longitude', 'CorrosionRegionType', 'WindRegionType', 'StructureClassCode', 'Height']].drop_duplicates('AMSAssetRef')\n",
    "\n",
    "#unique_coords"
   ]
  },
  {
   "cell_type": "code",
   "execution_count": 63,
   "id": "f7f61424",
   "metadata": {},
   "outputs": [
    {
     "data": {
      "text/html": [
       "<div>\n",
       "<style scoped>\n",
       "    .dataframe tbody tr th:only-of-type {\n",
       "        vertical-align: middle;\n",
       "    }\n",
       "\n",
       "    .dataframe tbody tr th {\n",
       "        vertical-align: top;\n",
       "    }\n",
       "\n",
       "    .dataframe thead th {\n",
       "        text-align: right;\n",
       "    }\n",
       "</style>\n",
       "<table border=\"1\" class=\"dataframe\">\n",
       "  <thead>\n",
       "    <tr style=\"text-align: right;\">\n",
       "      <th></th>\n",
       "      <th>SiteId</th>\n",
       "      <th>SiteRef</th>\n",
       "      <th>SiteOpenIssueId</th>\n",
       "      <th>IssueID</th>\n",
       "      <th>Issue Type</th>\n",
       "      <th>AMSAssetRef</th>\n",
       "      <th>IssueDescription</th>\n",
       "      <th>IssueCreated</th>\n",
       "      <th>RiskRating</th>\n",
       "      <th>WorkRequired</th>\n",
       "      <th>...</th>\n",
       "      <th>_CreatedDate</th>\n",
       "      <th>UserLastUpdated</th>\n",
       "      <th>ResourcesNeeded</th>\n",
       "      <th>CreatedbyProject</th>\n",
       "      <th>PMProjectRef</th>\n",
       "      <th>CorrosionRegionType</th>\n",
       "      <th>WindRegionType</th>\n",
       "      <th>StructureClassCode</th>\n",
       "      <th>Height</th>\n",
       "      <th>StructureInstallationDate</th>\n",
       "    </tr>\n",
       "  </thead>\n",
       "  <tbody>\n",
       "    <tr>\n",
       "      <th>0</th>\n",
       "      <td>242</td>\n",
       "      <td>SA000242</td>\n",
       "      <td>1452</td>\n",
       "      <td>SA000242-1</td>\n",
       "      <td>Planned Maintenance</td>\n",
       "      <td>SA000242_STR_1</td>\n",
       "      <td>Z shelter doors suffering corrosion</td>\n",
       "      <td>2020-01-20</td>\n",
       "      <td>1E - NSV</td>\n",
       "      <td>Treat (wire brush &amp; galmet) the spots of corro...</td>\n",
       "      <td>...</td>\n",
       "      <td>NaT</td>\n",
       "      <td>NaN</td>\n",
       "      <td>NaN</td>\n",
       "      <td>NaN</td>\n",
       "      <td>NaN</td>\n",
       "      <td>B (Low)</td>\n",
       "      <td>A</td>\n",
       "      <td>TOWER STEEL</td>\n",
       "      <td>30.0</td>\n",
       "      <td>2000-07-27</td>\n",
       "    </tr>\n",
       "    <tr>\n",
       "      <th>1</th>\n",
       "      <td>222</td>\n",
       "      <td>SA000222</td>\n",
       "      <td>1336</td>\n",
       "      <td>SA000222-2</td>\n",
       "      <td>Planned Maintenance</td>\n",
       "      <td>SA000222_STR_1</td>\n",
       "      <td>Z shelter doors and frame structure members su...</td>\n",
       "      <td>2021-03-15</td>\n",
       "      <td>2C - PM4 - 5 Years</td>\n",
       "      <td>Wire brrushed, cleaned, treated with galmet. M...</td>\n",
       "      <td>...</td>\n",
       "      <td>NaT</td>\n",
       "      <td>Christopher Prause</td>\n",
       "      <td>NaN</td>\n",
       "      <td>NaN</td>\n",
       "      <td>NaN</td>\n",
       "      <td>B (Low)</td>\n",
       "      <td>A</td>\n",
       "      <td>MAST GUYED</td>\n",
       "      <td>40.0</td>\n",
       "      <td>2000-07-27</td>\n",
       "    </tr>\n",
       "    <tr>\n",
       "      <th>2</th>\n",
       "      <td>4992</td>\n",
       "      <td>QLD004992</td>\n",
       "      <td>21950</td>\n",
       "      <td>QLD004992-35</td>\n",
       "      <td>Planned Maintenance</td>\n",
       "      <td>QLD004992_STR_1</td>\n",
       "      <td>Z face 20m heavy corrosion on bolts KZ leg</td>\n",
       "      <td>2014-05-28</td>\n",
       "      <td>4C - TFP / PM3 - 18 Months</td>\n",
       "      <td>Replace bolts M20x50. Treat corrosion and repaint</td>\n",
       "      <td>...</td>\n",
       "      <td>NaT</td>\n",
       "      <td>Peter.R.Grogan@team.telstra.com</td>\n",
       "      <td>NaN</td>\n",
       "      <td>NaN</td>\n",
       "      <td>NaN</td>\n",
       "      <td>E (Very High)</td>\n",
       "      <td>C</td>\n",
       "      <td>TOWER STEEL</td>\n",
       "      <td>39.0</td>\n",
       "      <td>1999-06-09</td>\n",
       "    </tr>\n",
       "    <tr>\n",
       "      <th>3</th>\n",
       "      <td>4992</td>\n",
       "      <td>QLD004992</td>\n",
       "      <td>21946</td>\n",
       "      <td>QLD004992-31</td>\n",
       "      <td>Planned Maintenance</td>\n",
       "      <td>QLD004992_STR_1</td>\n",
       "      <td>W face inner- heavy corrosion &amp; delamination 10m</td>\n",
       "      <td>2014-05-28</td>\n",
       "      <td>4C - TFP / PM3 - 18 Months</td>\n",
       "      <td>Refurbish braces/rakers &amp; repaint</td>\n",
       "      <td>...</td>\n",
       "      <td>NaT</td>\n",
       "      <td>Christopher Prause</td>\n",
       "      <td>NaN</td>\n",
       "      <td>NaN</td>\n",
       "      <td>LCR-32801</td>\n",
       "      <td>E (Very High)</td>\n",
       "      <td>C</td>\n",
       "      <td>TOWER STEEL</td>\n",
       "      <td>39.0</td>\n",
       "      <td>1999-06-09</td>\n",
       "    </tr>\n",
       "    <tr>\n",
       "      <th>4</th>\n",
       "      <td>4992</td>\n",
       "      <td>QLD004992</td>\n",
       "      <td>21952</td>\n",
       "      <td>QLD004992-37</td>\n",
       "      <td>Planned Maintenance</td>\n",
       "      <td>QLD004992_STR_1</td>\n",
       "      <td>W Face inner- heavy corrosion &amp; delamination 25m</td>\n",
       "      <td>2014-05-28</td>\n",
       "      <td>4C - TFP / PM3 - 18 Months</td>\n",
       "      <td>Refurbish and replace bolts 6x M20x55</td>\n",
       "      <td>...</td>\n",
       "      <td>NaT</td>\n",
       "      <td>Peter.R.Grogan@team.telstra.com</td>\n",
       "      <td>NaN</td>\n",
       "      <td>NaN</td>\n",
       "      <td>NaN</td>\n",
       "      <td>E (Very High)</td>\n",
       "      <td>C</td>\n",
       "      <td>TOWER STEEL</td>\n",
       "      <td>39.0</td>\n",
       "      <td>1999-06-09</td>\n",
       "    </tr>\n",
       "    <tr>\n",
       "      <th>...</th>\n",
       "      <td>...</td>\n",
       "      <td>...</td>\n",
       "      <td>...</td>\n",
       "      <td>...</td>\n",
       "      <td>...</td>\n",
       "      <td>...</td>\n",
       "      <td>...</td>\n",
       "      <td>...</td>\n",
       "      <td>...</td>\n",
       "      <td>...</td>\n",
       "      <td>...</td>\n",
       "      <td>...</td>\n",
       "      <td>...</td>\n",
       "      <td>...</td>\n",
       "      <td>...</td>\n",
       "      <td>...</td>\n",
       "      <td>...</td>\n",
       "      <td>...</td>\n",
       "      <td>...</td>\n",
       "      <td>...</td>\n",
       "      <td>...</td>\n",
       "    </tr>\n",
       "    <tr>\n",
       "      <th>7401</th>\n",
       "      <td>176</td>\n",
       "      <td>SA000176</td>\n",
       "      <td>49070</td>\n",
       "      <td>SA000176-8</td>\n",
       "      <td>Planned Maintenance</td>\n",
       "      <td>SA000176_STR_1</td>\n",
       "      <td>Protective coating on structure legs, where i...</td>\n",
       "      <td>2023-04-18</td>\n",
       "      <td>3B - PM4 - 5 Years</td>\n",
       "      <td>IRM_140423: TFP to assess requirement. .  Reco...</td>\n",
       "      <td>...</td>\n",
       "      <td>2023-04-18</td>\n",
       "      <td>NaN</td>\n",
       "      <td>NaN</td>\n",
       "      <td>NaN</td>\n",
       "      <td>NaN</td>\n",
       "      <td>B (Low)</td>\n",
       "      <td>A</td>\n",
       "      <td>TOWER STEEL</td>\n",
       "      <td>30.0</td>\n",
       "      <td>2000-07-27</td>\n",
       "    </tr>\n",
       "    <tr>\n",
       "      <th>7402</th>\n",
       "      <td>175</td>\n",
       "      <td>SA000175</td>\n",
       "      <td>49071</td>\n",
       "      <td>SA000175-8</td>\n",
       "      <td>Planned Maintenance</td>\n",
       "      <td>SA000175_STR_1</td>\n",
       "      <td>Protective coating on structure legs, where i...</td>\n",
       "      <td>2023-04-18</td>\n",
       "      <td>3B - PM4 - 5 Years</td>\n",
       "      <td>IRM_140423: TFPto assess requirement- Recommen...</td>\n",
       "      <td>...</td>\n",
       "      <td>2023-04-18</td>\n",
       "      <td>NaN</td>\n",
       "      <td>NaN</td>\n",
       "      <td>NaN</td>\n",
       "      <td>NaN</td>\n",
       "      <td>B (Low)</td>\n",
       "      <td>A</td>\n",
       "      <td>TOWER STEEL</td>\n",
       "      <td>40.0</td>\n",
       "      <td>2000-07-27</td>\n",
       "    </tr>\n",
       "    <tr>\n",
       "      <th>7403</th>\n",
       "      <td>837</td>\n",
       "      <td>SA000837</td>\n",
       "      <td>49068</td>\n",
       "      <td>SA000837-6</td>\n",
       "      <td>Planned Maintenance</td>\n",
       "      <td>SA000837_STR_1</td>\n",
       "      <td>Protective bitumen coating on structure legs,...</td>\n",
       "      <td>2023-04-18</td>\n",
       "      <td>3B - PM4 - 5 Years</td>\n",
       "      <td>IRM_  TFP to assess if required. Recommend fol...</td>\n",
       "      <td>...</td>\n",
       "      <td>2023-04-18</td>\n",
       "      <td>NaN</td>\n",
       "      <td>NaN</td>\n",
       "      <td>NaN</td>\n",
       "      <td>NaN</td>\n",
       "      <td>B (Low)</td>\n",
       "      <td>A</td>\n",
       "      <td>TOWER STEEL</td>\n",
       "      <td>30.0</td>\n",
       "      <td>2000-08-30</td>\n",
       "    </tr>\n",
       "    <tr>\n",
       "      <th>7404</th>\n",
       "      <td>3700</td>\n",
       "      <td>QLD003700</td>\n",
       "      <td>48791</td>\n",
       "      <td>QLD003700-4</td>\n",
       "      <td>Minor Maintenance</td>\n",
       "      <td>QLD003700_STR_1</td>\n",
       "      <td>Paint condition of structure is poor.  Paint ...</td>\n",
       "      <td>2023-03-10</td>\n",
       "      <td>2C - PM4 - 5 Years</td>\n",
       "      <td>Refurbish the pole body at approx 18m where co...</td>\n",
       "      <td>...</td>\n",
       "      <td>2023-03-10</td>\n",
       "      <td>NaN</td>\n",
       "      <td>NaN</td>\n",
       "      <td>NaN</td>\n",
       "      <td>NaN</td>\n",
       "      <td>C (Medium)</td>\n",
       "      <td>C</td>\n",
       "      <td>POLE STEEL</td>\n",
       "      <td>30.0</td>\n",
       "      <td>2010-08-05</td>\n",
       "    </tr>\n",
       "    <tr>\n",
       "      <th>7405</th>\n",
       "      <td>4660</td>\n",
       "      <td>WA004660</td>\n",
       "      <td>40492</td>\n",
       "      <td>WA004660-3</td>\n",
       "      <td>Planned Maintenance</td>\n",
       "      <td>WA004660_STR_1</td>\n",
       "      <td>J bolts holding resting platforms mesh on all...</td>\n",
       "      <td>2022-04-05</td>\n",
       "      <td>3C - PM3 - 2 Years</td>\n",
       "      <td>IRM_010422. 200 off. 4mtrs to 70 mtrs. Clean ,...</td>\n",
       "      <td>...</td>\n",
       "      <td>2022-04-05</td>\n",
       "      <td>Christopher Prause</td>\n",
       "      <td>NaN</td>\n",
       "      <td>NaN</td>\n",
       "      <td>NaN</td>\n",
       "      <td>C (Medium)</td>\n",
       "      <td>A</td>\n",
       "      <td>TOWER STEEL</td>\n",
       "      <td>70.0</td>\n",
       "      <td>2017-10-23</td>\n",
       "    </tr>\n",
       "  </tbody>\n",
       "</table>\n",
       "<p>7406 rows × 39 columns</p>\n",
       "</div>"
      ],
      "text/plain": [
       "      SiteId    SiteRef  SiteOpenIssueId       IssueID           Issue Type  \\\n",
       "0        242   SA000242             1452    SA000242-1  Planned Maintenance   \n",
       "1        222   SA000222             1336    SA000222-2  Planned Maintenance   \n",
       "2       4992  QLD004992            21950  QLD004992-35  Planned Maintenance   \n",
       "3       4992  QLD004992            21946  QLD004992-31  Planned Maintenance   \n",
       "4       4992  QLD004992            21952  QLD004992-37  Planned Maintenance   \n",
       "...      ...        ...              ...           ...                  ...   \n",
       "7401     176   SA000176            49070    SA000176-8  Planned Maintenance   \n",
       "7402     175   SA000175            49071    SA000175-8  Planned Maintenance   \n",
       "7403     837   SA000837            49068    SA000837-6  Planned Maintenance   \n",
       "7404    3700  QLD003700            48791   QLD003700-4    Minor Maintenance   \n",
       "7405    4660   WA004660            40492    WA004660-3  Planned Maintenance   \n",
       "\n",
       "          AMSAssetRef                                   IssueDescription  \\\n",
       "0      SA000242_STR_1                Z shelter doors suffering corrosion   \n",
       "1      SA000222_STR_1  Z shelter doors and frame structure members su...   \n",
       "2     QLD004992_STR_1         Z face 20m heavy corrosion on bolts KZ leg   \n",
       "3     QLD004992_STR_1   W face inner- heavy corrosion & delamination 10m   \n",
       "4     QLD004992_STR_1   W Face inner- heavy corrosion & delamination 25m   \n",
       "...               ...                                                ...   \n",
       "7401   SA000176_STR_1   Protective coating on structure legs, where i...   \n",
       "7402   SA000175_STR_1   Protective coating on structure legs, where i...   \n",
       "7403   SA000837_STR_1   Protective bitumen coating on structure legs,...   \n",
       "7404  QLD003700_STR_1   Paint condition of structure is poor.  Paint ...   \n",
       "7405   WA004660_STR_1   J bolts holding resting platforms mesh on all...   \n",
       "\n",
       "     IssueCreated                  RiskRating  \\\n",
       "0      2020-01-20                    1E - NSV   \n",
       "1      2021-03-15          2C - PM4 - 5 Years   \n",
       "2      2014-05-28  4C - TFP / PM3 - 18 Months   \n",
       "3      2014-05-28  4C - TFP / PM3 - 18 Months   \n",
       "4      2014-05-28  4C - TFP / PM3 - 18 Months   \n",
       "...           ...                         ...   \n",
       "7401   2023-04-18          3B - PM4 - 5 Years   \n",
       "7402   2023-04-18          3B - PM4 - 5 Years   \n",
       "7403   2023-04-18          3B - PM4 - 5 Years   \n",
       "7404   2023-03-10          2C - PM4 - 5 Years   \n",
       "7405   2022-04-05          3C - PM3 - 2 Years   \n",
       "\n",
       "                                           WorkRequired  ... _CreatedDate  \\\n",
       "0     Treat (wire brush & galmet) the spots of corro...  ...          NaT   \n",
       "1     Wire brrushed, cleaned, treated with galmet. M...  ...          NaT   \n",
       "2     Replace bolts M20x50. Treat corrosion and repaint  ...          NaT   \n",
       "3                     Refurbish braces/rakers & repaint  ...          NaT   \n",
       "4                 Refurbish and replace bolts 6x M20x55  ...          NaT   \n",
       "...                                                 ...  ...          ...   \n",
       "7401  IRM_140423: TFP to assess requirement. .  Reco...  ...   2023-04-18   \n",
       "7402  IRM_140423: TFPto assess requirement- Recommen...  ...   2023-04-18   \n",
       "7403  IRM_  TFP to assess if required. Recommend fol...  ...   2023-04-18   \n",
       "7404  Refurbish the pole body at approx 18m where co...  ...   2023-03-10   \n",
       "7405  IRM_010422. 200 off. 4mtrs to 70 mtrs. Clean ,...  ...   2022-04-05   \n",
       "\n",
       "                      UserLastUpdated ResourcesNeeded CreatedbyProject  \\\n",
       "0                                 NaN             NaN              NaN   \n",
       "1                  Christopher Prause             NaN              NaN   \n",
       "2     Peter.R.Grogan@team.telstra.com             NaN              NaN   \n",
       "3                  Christopher Prause             NaN              NaN   \n",
       "4     Peter.R.Grogan@team.telstra.com             NaN              NaN   \n",
       "...                               ...             ...              ...   \n",
       "7401                              NaN             NaN              NaN   \n",
       "7402                              NaN             NaN              NaN   \n",
       "7403                              NaN             NaN              NaN   \n",
       "7404                              NaN             NaN              NaN   \n",
       "7405               Christopher Prause             NaN              NaN   \n",
       "\n",
       "     PMProjectRef CorrosionRegionType WindRegionType StructureClassCode  \\\n",
       "0             NaN             B (Low)              A        TOWER STEEL   \n",
       "1             NaN             B (Low)              A         MAST GUYED   \n",
       "2             NaN       E (Very High)              C        TOWER STEEL   \n",
       "3       LCR-32801       E (Very High)              C        TOWER STEEL   \n",
       "4             NaN       E (Very High)              C        TOWER STEEL   \n",
       "...           ...                 ...            ...                ...   \n",
       "7401          NaN             B (Low)              A        TOWER STEEL   \n",
       "7402          NaN             B (Low)              A        TOWER STEEL   \n",
       "7403          NaN             B (Low)              A        TOWER STEEL   \n",
       "7404          NaN          C (Medium)              C         POLE STEEL   \n",
       "7405          NaN          C (Medium)              A        TOWER STEEL   \n",
       "\n",
       "     Height  StructureInstallationDate  \n",
       "0      30.0                 2000-07-27  \n",
       "1      40.0                 2000-07-27  \n",
       "2      39.0                 1999-06-09  \n",
       "3      39.0                 1999-06-09  \n",
       "4      39.0                 1999-06-09  \n",
       "...     ...                        ...  \n",
       "7401   30.0                 2000-07-27  \n",
       "7402   40.0                 2000-07-27  \n",
       "7403   30.0                 2000-08-30  \n",
       "7404   30.0                 2010-08-05  \n",
       "7405   70.0                 2017-10-23  \n",
       "\n",
       "[7406 rows x 39 columns]"
      ]
     },
     "execution_count": 63,
     "metadata": {},
     "output_type": "execute_result"
    }
   ],
   "source": [
    "df = pd.merge(corr_issues, df, on='AMSAssetRef', how='outer')\n",
    "df"
   ]
  },
  {
   "cell_type": "code",
   "execution_count": 64,
   "id": "8ec49923",
   "metadata": {},
   "outputs": [],
   "source": [
    "towers_selected = ['NSW002631_STR_1', 'NSW002467_STR_1', 'NSW002367_STR_1', 'NSW002474_STR_1', 'NSW002842_STR_1','NSW001807_STR_1', 'NSW002605_STR_1', 'NSW002107_STR_1']"
   ]
  },
  {
   "cell_type": "code",
   "execution_count": 65,
   "id": "b1d13064",
   "metadata": {},
   "outputs": [
    {
     "data": {
      "text/html": [
       "<div>\n",
       "<style scoped>\n",
       "    .dataframe tbody tr th:only-of-type {\n",
       "        vertical-align: middle;\n",
       "    }\n",
       "\n",
       "    .dataframe tbody tr th {\n",
       "        vertical-align: top;\n",
       "    }\n",
       "\n",
       "    .dataframe thead th {\n",
       "        text-align: right;\n",
       "    }\n",
       "</style>\n",
       "<table border=\"1\" class=\"dataframe\">\n",
       "  <thead>\n",
       "    <tr style=\"text-align: right;\">\n",
       "      <th></th>\n",
       "      <th>SiteId</th>\n",
       "      <th>SiteRef</th>\n",
       "      <th>SiteOpenIssueId</th>\n",
       "      <th>IssueID</th>\n",
       "      <th>Issue Type</th>\n",
       "      <th>AMSAssetRef</th>\n",
       "      <th>IssueDescription</th>\n",
       "      <th>IssueCreated</th>\n",
       "      <th>RiskRating</th>\n",
       "      <th>WorkRequired</th>\n",
       "      <th>...</th>\n",
       "      <th>_CreatedDate</th>\n",
       "      <th>UserLastUpdated</th>\n",
       "      <th>ResourcesNeeded</th>\n",
       "      <th>CreatedbyProject</th>\n",
       "      <th>PMProjectRef</th>\n",
       "      <th>CorrosionRegionType</th>\n",
       "      <th>WindRegionType</th>\n",
       "      <th>StructureClassCode</th>\n",
       "      <th>Height</th>\n",
       "      <th>StructureInstallationDate</th>\n",
       "    </tr>\n",
       "  </thead>\n",
       "  <tbody>\n",
       "    <tr>\n",
       "      <th>134</th>\n",
       "      <td>2474</td>\n",
       "      <td>NSW002474</td>\n",
       "      <td>15798</td>\n",
       "      <td>NSW002474-3</td>\n",
       "      <td>Planned Maintenance</td>\n",
       "      <td>NSW002474_STR_1</td>\n",
       "      <td>Wire mesh bird proofing top of head frame is n...</td>\n",
       "      <td>2011-03-24</td>\n",
       "      <td>1E - NSV</td>\n",
       "      <td>Replace bird proofing mesh with new galvanised...</td>\n",
       "      <td>...</td>\n",
       "      <td>NaT</td>\n",
       "      <td>IRM@excelriggingservices.com.au</td>\n",
       "      <td>NaN</td>\n",
       "      <td>NaN</td>\n",
       "      <td>NaN</td>\n",
       "      <td>E (Very High)</td>\n",
       "      <td>A</td>\n",
       "      <td>POLE STEEL</td>\n",
       "      <td>35.0</td>\n",
       "      <td>2006-04-18</td>\n",
       "    </tr>\n",
       "    <tr>\n",
       "      <th>135</th>\n",
       "      <td>2474</td>\n",
       "      <td>NSW002474</td>\n",
       "      <td>46562</td>\n",
       "      <td>NSW002474-7</td>\n",
       "      <td>Routine Maintenance</td>\n",
       "      <td>NSW002474_STR_1</td>\n",
       "      <td>Surface/light corrosion on strengthening chann...</td>\n",
       "      <td>2022-12-13</td>\n",
       "      <td>3C - PM3 - 2 Years</td>\n",
       "      <td>Treat (wire brush and apply protective coat of...</td>\n",
       "      <td>...</td>\n",
       "      <td>2022-12-13</td>\n",
       "      <td>Debby Kirkwood</td>\n",
       "      <td>NaN</td>\n",
       "      <td>NaN</td>\n",
       "      <td>NaN</td>\n",
       "      <td>E (Very High)</td>\n",
       "      <td>A</td>\n",
       "      <td>POLE STEEL</td>\n",
       "      <td>35.0</td>\n",
       "      <td>2006-04-18</td>\n",
       "    </tr>\n",
       "    <tr>\n",
       "      <th>136</th>\n",
       "      <td>2474</td>\n",
       "      <td>NSW002474</td>\n",
       "      <td>51105</td>\n",
       "      <td>NSW002474-10</td>\n",
       "      <td>Minor Maintenance</td>\n",
       "      <td>NSW002474_STR_1</td>\n",
       "      <td>Surface to light corrosion on approx 200 bolts...</td>\n",
       "      <td>2023-07-31</td>\n",
       "      <td>2C - PM4 - 5 Years</td>\n",
       "      <td>RPAS IRM 25-07-23:  Refurbish (wire brush and ...</td>\n",
       "      <td>...</td>\n",
       "      <td>2023-07-31</td>\n",
       "      <td>NaN</td>\n",
       "      <td>NaN</td>\n",
       "      <td>NaN</td>\n",
       "      <td>NaN</td>\n",
       "      <td>E (Very High)</td>\n",
       "      <td>A</td>\n",
       "      <td>POLE STEEL</td>\n",
       "      <td>35.0</td>\n",
       "      <td>2006-04-18</td>\n",
       "    </tr>\n",
       "    <tr>\n",
       "      <th>1952</th>\n",
       "      <td>2605</td>\n",
       "      <td>NSW002605</td>\n",
       "      <td>40517</td>\n",
       "      <td>NSW002605-9</td>\n",
       "      <td>Planned Maintenance</td>\n",
       "      <td>NSW002605_STR_1</td>\n",
       "      <td>Threaded rod installed at top of steel jacket ...</td>\n",
       "      <td>2022-04-16</td>\n",
       "      <td>4B - PM3 - 4 Years</td>\n",
       "      <td>Treat (wash off contaminants, wire brush &amp; app...</td>\n",
       "      <td>...</td>\n",
       "      <td>2022-04-16</td>\n",
       "      <td>Debby Kirkwood</td>\n",
       "      <td>NaN</td>\n",
       "      <td>NaN</td>\n",
       "      <td>NaN</td>\n",
       "      <td>E (Very High)</td>\n",
       "      <td>A</td>\n",
       "      <td>POLE STEEL</td>\n",
       "      <td>23.8</td>\n",
       "      <td>2008-06-16</td>\n",
       "    </tr>\n",
       "    <tr>\n",
       "      <th>2695</th>\n",
       "      <td>2107</td>\n",
       "      <td>NSW002107</td>\n",
       "      <td>14307</td>\n",
       "      <td>NSW002107-7</td>\n",
       "      <td>Planned Maintenance</td>\n",
       "      <td>NSW002107_STR_1</td>\n",
       "      <td>Tek screws on gantry horizontal and verticle a...</td>\n",
       "      <td>2007-01-22</td>\n",
       "      <td>4D - UM - 1-3 Months</td>\n",
       "      <td>PBR 29015186Replace tek screws with 120 of M8 ...</td>\n",
       "      <td>...</td>\n",
       "      <td>NaT</td>\n",
       "      <td>Dave.Sutton@team.telstra.com</td>\n",
       "      <td>NaN</td>\n",
       "      <td>NaN</td>\n",
       "      <td>NaN</td>\n",
       "      <td>E (Very High)</td>\n",
       "      <td>A</td>\n",
       "      <td>BUILDING EXTERNAL</td>\n",
       "      <td>19.0</td>\n",
       "      <td>2003-02-28</td>\n",
       "    </tr>\n",
       "    <tr>\n",
       "      <th>2696</th>\n",
       "      <td>2107</td>\n",
       "      <td>NSW002107</td>\n",
       "      <td>46010</td>\n",
       "      <td>NSW002107-17</td>\n",
       "      <td>Routine Maintenance</td>\n",
       "      <td>NSW002107_STR_1</td>\n",
       "      <td>Step ladder and support beams is suffering fro...</td>\n",
       "      <td>2022-10-27</td>\n",
       "      <td>3C - PM3 - 2 Years</td>\n",
       "      <td>Refurbish the External staircase/supports/hand...</td>\n",
       "      <td>...</td>\n",
       "      <td>2022-10-27</td>\n",
       "      <td>NaN</td>\n",
       "      <td>NaN</td>\n",
       "      <td>NaN</td>\n",
       "      <td>NaN</td>\n",
       "      <td>E (Very High)</td>\n",
       "      <td>A</td>\n",
       "      <td>BUILDING EXTERNAL</td>\n",
       "      <td>19.0</td>\n",
       "      <td>2003-02-28</td>\n",
       "    </tr>\n",
       "    <tr>\n",
       "      <th>2697</th>\n",
       "      <td>2107</td>\n",
       "      <td>NSW002107</td>\n",
       "      <td>14301</td>\n",
       "      <td>NSW002107-1</td>\n",
       "      <td>Planned Maintenance</td>\n",
       "      <td>NSW002107_STR_1</td>\n",
       "      <td>Monitor and report on heavy corrosion at base ...</td>\n",
       "      <td>2015-04-01</td>\n",
       "      <td>5C - PM2 - 12 Months</td>\n",
       "      <td>PDS 36423199, SP14000170, WO0000, BERMAGUI RES...</td>\n",
       "      <td>...</td>\n",
       "      <td>NaT</td>\n",
       "      <td>jason.j.brown@team.telstra.com</td>\n",
       "      <td>NaN</td>\n",
       "      <td>NaN</td>\n",
       "      <td>NaN</td>\n",
       "      <td>E (Very High)</td>\n",
       "      <td>A</td>\n",
       "      <td>BUILDING EXTERNAL</td>\n",
       "      <td>19.0</td>\n",
       "      <td>2003-02-28</td>\n",
       "    </tr>\n",
       "    <tr>\n",
       "      <th>2698</th>\n",
       "      <td>2107</td>\n",
       "      <td>NSW002107</td>\n",
       "      <td>14308</td>\n",
       "      <td>NSW002107-8</td>\n",
       "      <td>Planned Maintenance</td>\n",
       "      <td>NSW002107_STR_1</td>\n",
       "      <td>Light corrosion on TMA hose clamps</td>\n",
       "      <td>2007-01-22</td>\n",
       "      <td>4C - TFP / PM3 - 18 Months</td>\n",
       "      <td>PBR 29015186 Replace 10 of hose clamps to suit...</td>\n",
       "      <td>...</td>\n",
       "      <td>NaT</td>\n",
       "      <td>Dave.Sutton@team.telstra.com</td>\n",
       "      <td>NaN</td>\n",
       "      <td>NaN</td>\n",
       "      <td>NaN</td>\n",
       "      <td>E (Very High)</td>\n",
       "      <td>A</td>\n",
       "      <td>BUILDING EXTERNAL</td>\n",
       "      <td>19.0</td>\n",
       "      <td>2003-02-28</td>\n",
       "    </tr>\n",
       "    <tr>\n",
       "      <th>2699</th>\n",
       "      <td>2107</td>\n",
       "      <td>NSW002107</td>\n",
       "      <td>14312</td>\n",
       "      <td>NSW002107-12</td>\n",
       "      <td>Planned Maintenance</td>\n",
       "      <td>NSW002107_STR_1</td>\n",
       "      <td>HORIZONTAL GANTRY POST HEAVEY CORROSION AT THE...</td>\n",
       "      <td>2011-06-30</td>\n",
       "      <td>2B - MON</td>\n",
       "      <td>Monitor the condition of the HORIZONTAL GANTRY...</td>\n",
       "      <td>...</td>\n",
       "      <td>NaT</td>\n",
       "      <td>IRM@excelriggingservices.com.au</td>\n",
       "      <td>NaN</td>\n",
       "      <td>NaN</td>\n",
       "      <td>NaN</td>\n",
       "      <td>E (Very High)</td>\n",
       "      <td>A</td>\n",
       "      <td>BUILDING EXTERNAL</td>\n",
       "      <td>19.0</td>\n",
       "      <td>2003-02-28</td>\n",
       "    </tr>\n",
       "    <tr>\n",
       "      <th>2700</th>\n",
       "      <td>2107</td>\n",
       "      <td>NSW002107</td>\n",
       "      <td>14302</td>\n",
       "      <td>NSW002107-2</td>\n",
       "      <td>Planned Maintenance</td>\n",
       "      <td>NSW002107_STR_1</td>\n",
       "      <td>Gantry tray corroded</td>\n",
       "      <td>2015-04-01</td>\n",
       "      <td>5C - PM2 - 12 Months</td>\n",
       "      <td>PDS36423199. REPLACE GANTRY 300MM WIDE X 130MM...</td>\n",
       "      <td>...</td>\n",
       "      <td>NaT</td>\n",
       "      <td>Adam.K.Jaggard@team.telstra.com</td>\n",
       "      <td>NaN</td>\n",
       "      <td>NaN</td>\n",
       "      <td>NaN</td>\n",
       "      <td>E (Very High)</td>\n",
       "      <td>A</td>\n",
       "      <td>BUILDING EXTERNAL</td>\n",
       "      <td>19.0</td>\n",
       "      <td>2003-02-28</td>\n",
       "    </tr>\n",
       "    <tr>\n",
       "      <th>2701</th>\n",
       "      <td>2107</td>\n",
       "      <td>NSW002107</td>\n",
       "      <td>46011</td>\n",
       "      <td>NSW002107-18</td>\n",
       "      <td>Planned Maintenance</td>\n",
       "      <td>NSW002107_STR_1</td>\n",
       "      <td>\"Underside of external staircase platforms and...</td>\n",
       "      <td>2022-10-27</td>\n",
       "      <td>3C - PM3 - 2 Years</td>\n",
       "      <td>\"Refurbish the Underside of external staircase...</td>\n",
       "      <td>...</td>\n",
       "      <td>2022-10-27</td>\n",
       "      <td>Peter Grogan</td>\n",
       "      <td>NaN</td>\n",
       "      <td>NaN</td>\n",
       "      <td>NaN</td>\n",
       "      <td>E (Very High)</td>\n",
       "      <td>A</td>\n",
       "      <td>BUILDING EXTERNAL</td>\n",
       "      <td>19.0</td>\n",
       "      <td>2003-02-28</td>\n",
       "    </tr>\n",
       "    <tr>\n",
       "      <th>2764</th>\n",
       "      <td>2842</td>\n",
       "      <td>NSW002842</td>\n",
       "      <td>51101</td>\n",
       "      <td>NSW002842-8</td>\n",
       "      <td>Planned Maintenance</td>\n",
       "      <td>NSW002842_STR_1</td>\n",
       "      <td>Surface-Light corrosion present. All items ins...</td>\n",
       "      <td>2023-07-31</td>\n",
       "      <td>5C - PM2 - 12 Months</td>\n",
       "      <td>RPAS IRM 26-07-23: Towers to determine if stru...</td>\n",
       "      <td>...</td>\n",
       "      <td>2023-07-31</td>\n",
       "      <td>Adam Jaggard</td>\n",
       "      <td>NaN</td>\n",
       "      <td>NaN</td>\n",
       "      <td>NaN</td>\n",
       "      <td>E (Very High)</td>\n",
       "      <td>A</td>\n",
       "      <td>POLE STEEL</td>\n",
       "      <td>23.8</td>\n",
       "      <td>2008-09-10</td>\n",
       "    </tr>\n",
       "    <tr>\n",
       "      <th>3214</th>\n",
       "      <td>2467</td>\n",
       "      <td>NSW002467</td>\n",
       "      <td>46446</td>\n",
       "      <td>NSW002467-7</td>\n",
       "      <td>Routine Maintenance</td>\n",
       "      <td>NSW002467_STR_1</td>\n",
       "      <td>Surface/light corrosion staining occuring betw...</td>\n",
       "      <td>2022-12-02</td>\n",
       "      <td>4C - TFP / PM3 - 18 Months</td>\n",
       "      <td>Check the condition of the hold down bolts at ...</td>\n",
       "      <td>...</td>\n",
       "      <td>2022-12-02</td>\n",
       "      <td>Christopher Prause</td>\n",
       "      <td>NaN</td>\n",
       "      <td>NaN</td>\n",
       "      <td>NaN</td>\n",
       "      <td>E (Very High)</td>\n",
       "      <td>A</td>\n",
       "      <td>POLE CONCRETE</td>\n",
       "      <td>30.0</td>\n",
       "      <td>2007-08-07</td>\n",
       "    </tr>\n",
       "    <tr>\n",
       "      <th>4096</th>\n",
       "      <td>1807</td>\n",
       "      <td>NSW001807</td>\n",
       "      <td>12740</td>\n",
       "      <td>NSW001807-11</td>\n",
       "      <td>Planned Maintenance</td>\n",
       "      <td>NSW001807_STR_1</td>\n",
       "      <td>Surface corrosion on antenna brackets &amp; bolts,...</td>\n",
       "      <td>2011-01-31</td>\n",
       "      <td>1E - NSV</td>\n",
       "      <td>PBR 30869585 Wire brush and treat corrosion on...</td>\n",
       "      <td>...</td>\n",
       "      <td>NaT</td>\n",
       "      <td>jason.j.brown@team.telstra.com</td>\n",
       "      <td>NaN</td>\n",
       "      <td>NaN</td>\n",
       "      <td>NaN</td>\n",
       "      <td>E (Very High)</td>\n",
       "      <td>A</td>\n",
       "      <td>POLE STEEL</td>\n",
       "      <td>15.0</td>\n",
       "      <td>2003-12-11</td>\n",
       "    </tr>\n",
       "    <tr>\n",
       "      <th>4097</th>\n",
       "      <td>1807</td>\n",
       "      <td>NSW001807</td>\n",
       "      <td>12744</td>\n",
       "      <td>NSW001807-15</td>\n",
       "      <td>Planned Maintenance</td>\n",
       "      <td>NSW001807_STR_1</td>\n",
       "      <td>Structure suffering various degrees of corrosion</td>\n",
       "      <td>2014-08-26</td>\n",
       "      <td>3D - PM1 / SMB - 3-6 Months</td>\n",
       "      <td>~Inspectors have not put all corrosion found i...</td>\n",
       "      <td>...</td>\n",
       "      <td>NaT</td>\n",
       "      <td>Adam.K.Jaggard@team.telstra.com</td>\n",
       "      <td>NaN</td>\n",
       "      <td>NaN</td>\n",
       "      <td>NaN</td>\n",
       "      <td>E (Very High)</td>\n",
       "      <td>A</td>\n",
       "      <td>POLE STEEL</td>\n",
       "      <td>15.0</td>\n",
       "      <td>2003-12-11</td>\n",
       "    </tr>\n",
       "    <tr>\n",
       "      <th>4098</th>\n",
       "      <td>1807</td>\n",
       "      <td>NSW001807</td>\n",
       "      <td>40749</td>\n",
       "      <td>NSW001807-16</td>\n",
       "      <td>Planned Maintenance</td>\n",
       "      <td>NSW001807_STR_1</td>\n",
       "      <td>Medium to heavy corrosion present on earth str...</td>\n",
       "      <td>2022-05-29</td>\n",
       "      <td>3C - PM3 - 2 Years</td>\n",
       "      <td>Refurbish structure earth strap.  If integrity...</td>\n",
       "      <td>...</td>\n",
       "      <td>2022-05-29</td>\n",
       "      <td>Debby Kirkwood</td>\n",
       "      <td>NaN</td>\n",
       "      <td>NaN</td>\n",
       "      <td>NaN</td>\n",
       "      <td>E (Very High)</td>\n",
       "      <td>A</td>\n",
       "      <td>POLE STEEL</td>\n",
       "      <td>15.0</td>\n",
       "      <td>2003-12-11</td>\n",
       "    </tr>\n",
       "    <tr>\n",
       "      <th>4099</th>\n",
       "      <td>1807</td>\n",
       "      <td>NSW001807</td>\n",
       "      <td>12743</td>\n",
       "      <td>NSW001807-14</td>\n",
       "      <td>Planned Maintenance</td>\n",
       "      <td>NSW001807_STR_1</td>\n",
       "      <td>Heavy corrosion present. All items inspected &amp;...</td>\n",
       "      <td>2014-08-26</td>\n",
       "      <td>3D - PM1 / SMB - 3-6 Months</td>\n",
       "      <td>~Towers Planning to review Structure Corrosion...</td>\n",
       "      <td>...</td>\n",
       "      <td>NaT</td>\n",
       "      <td>Adam.K.Jaggard@team.telstra.com</td>\n",
       "      <td>NaN</td>\n",
       "      <td>NaN</td>\n",
       "      <td>NaN</td>\n",
       "      <td>E (Very High)</td>\n",
       "      <td>A</td>\n",
       "      <td>POLE STEEL</td>\n",
       "      <td>15.0</td>\n",
       "      <td>2003-12-11</td>\n",
       "    </tr>\n",
       "    <tr>\n",
       "      <th>4100</th>\n",
       "      <td>1807</td>\n",
       "      <td>NSW001807</td>\n",
       "      <td>50964</td>\n",
       "      <td>NSW001807-19</td>\n",
       "      <td>Minor Maintenance</td>\n",
       "      <td>NSW001807_STR_1</td>\n",
       "      <td>Heavy corrosion present on 1x earth strap abov...</td>\n",
       "      <td>2023-07-14</td>\n",
       "      <td>2C - PM4 - 5 Years</td>\n",
       "      <td>RPAS F01 07-07-23: Replace the heavily corrode...</td>\n",
       "      <td>...</td>\n",
       "      <td>2023-07-14</td>\n",
       "      <td>NaN</td>\n",
       "      <td>NaN</td>\n",
       "      <td>NaN</td>\n",
       "      <td>NaN</td>\n",
       "      <td>E (Very High)</td>\n",
       "      <td>A</td>\n",
       "      <td>POLE STEEL</td>\n",
       "      <td>15.0</td>\n",
       "      <td>2003-12-11</td>\n",
       "    </tr>\n",
       "    <tr>\n",
       "      <th>4101</th>\n",
       "      <td>1807</td>\n",
       "      <td>NSW001807</td>\n",
       "      <td>12738</td>\n",
       "      <td>NSW001807-9</td>\n",
       "      <td>Planned Maintenance</td>\n",
       "      <td>NSW001807_STR_1</td>\n",
       "      <td>Heavy Corroded bolts on Telstra's Head Frame a...</td>\n",
       "      <td>2009-03-13</td>\n",
       "      <td>5B - PM3 - 3 Years</td>\n",
       "      <td>PBR 29663251 Replace heavily corroded bolts on...</td>\n",
       "      <td>...</td>\n",
       "      <td>NaT</td>\n",
       "      <td>paul.r.fitzpatrick@team.telstra.com</td>\n",
       "      <td>NaN</td>\n",
       "      <td>NaN</td>\n",
       "      <td>NaN</td>\n",
       "      <td>E (Very High)</td>\n",
       "      <td>A</td>\n",
       "      <td>POLE STEEL</td>\n",
       "      <td>15.0</td>\n",
       "      <td>2003-12-11</td>\n",
       "    </tr>\n",
       "    <tr>\n",
       "      <th>4102</th>\n",
       "      <td>1807</td>\n",
       "      <td>NSW001807</td>\n",
       "      <td>12733</td>\n",
       "      <td>NSW001807-4</td>\n",
       "      <td>Planned Maintenance</td>\n",
       "      <td>NSW001807_STR_1</td>\n",
       "      <td>Corrosion exists on the structure</td>\n",
       "      <td>2018-10-31</td>\n",
       "      <td>5C - PM2 - 12 Months</td>\n",
       "      <td>TIM to review the F03 report &amp; photos.  Corros...</td>\n",
       "      <td>...</td>\n",
       "      <td>NaT</td>\n",
       "      <td>IRM@excelriggingservices.com.au</td>\n",
       "      <td>NaN</td>\n",
       "      <td>NaN</td>\n",
       "      <td>NaN</td>\n",
       "      <td>E (Very High)</td>\n",
       "      <td>A</td>\n",
       "      <td>POLE STEEL</td>\n",
       "      <td>15.0</td>\n",
       "      <td>2003-12-11</td>\n",
       "    </tr>\n",
       "    <tr>\n",
       "      <th>4115</th>\n",
       "      <td>2367</td>\n",
       "      <td>NSW002367</td>\n",
       "      <td>15463</td>\n",
       "      <td>NSW002367-8</td>\n",
       "      <td>Planned Maintenance</td>\n",
       "      <td>NSW002367_STR_1</td>\n",
       "      <td>Surface Corrosion on all 24 x M16 Antenna Moun...</td>\n",
       "      <td>2008-12-03</td>\n",
       "      <td>1D - NSV</td>\n",
       "      <td>Treat Corrosion on all 24 x M16 Antenna Mounti...</td>\n",
       "      <td>...</td>\n",
       "      <td>NaT</td>\n",
       "      <td>IRM@excelriggingservices.com.au</td>\n",
       "      <td>NaN</td>\n",
       "      <td>NaN</td>\n",
       "      <td>NaN</td>\n",
       "      <td>E (Very High)</td>\n",
       "      <td>A</td>\n",
       "      <td>POLE STEEL</td>\n",
       "      <td>30.0</td>\n",
       "      <td>2004-06-11</td>\n",
       "    </tr>\n",
       "    <tr>\n",
       "      <th>7016</th>\n",
       "      <td>2631</td>\n",
       "      <td>NSW002631</td>\n",
       "      <td>46401</td>\n",
       "      <td>NSW002631-8</td>\n",
       "      <td>Routine Maintenance</td>\n",
       "      <td>NSW002631_STR_1</td>\n",
       "      <td>Feeder window @ 24m cover plate bolts sufferin...</td>\n",
       "      <td>2022-11-25</td>\n",
       "      <td>4B - PM3 - 4 Years</td>\n",
       "      <td>Replace bolts on feeder window covering, RPAS ...</td>\n",
       "      <td>...</td>\n",
       "      <td>2022-11-25</td>\n",
       "      <td>NaN</td>\n",
       "      <td>NaN</td>\n",
       "      <td>NaN</td>\n",
       "      <td>NaN</td>\n",
       "      <td>E (Very High)</td>\n",
       "      <td>A</td>\n",
       "      <td>POLE STEEL</td>\n",
       "      <td>25.0</td>\n",
       "      <td>2006-05-20</td>\n",
       "    </tr>\n",
       "  </tbody>\n",
       "</table>\n",
       "<p>22 rows × 39 columns</p>\n",
       "</div>"
      ],
      "text/plain": [
       "      SiteId    SiteRef  SiteOpenIssueId       IssueID           Issue Type  \\\n",
       "134     2474  NSW002474            15798   NSW002474-3  Planned Maintenance   \n",
       "135     2474  NSW002474            46562   NSW002474-7  Routine Maintenance   \n",
       "136     2474  NSW002474            51105  NSW002474-10    Minor Maintenance   \n",
       "1952    2605  NSW002605            40517   NSW002605-9  Planned Maintenance   \n",
       "2695    2107  NSW002107            14307   NSW002107-7  Planned Maintenance   \n",
       "2696    2107  NSW002107            46010  NSW002107-17  Routine Maintenance   \n",
       "2697    2107  NSW002107            14301   NSW002107-1  Planned Maintenance   \n",
       "2698    2107  NSW002107            14308   NSW002107-8  Planned Maintenance   \n",
       "2699    2107  NSW002107            14312  NSW002107-12  Planned Maintenance   \n",
       "2700    2107  NSW002107            14302   NSW002107-2  Planned Maintenance   \n",
       "2701    2107  NSW002107            46011  NSW002107-18  Planned Maintenance   \n",
       "2764    2842  NSW002842            51101   NSW002842-8  Planned Maintenance   \n",
       "3214    2467  NSW002467            46446   NSW002467-7  Routine Maintenance   \n",
       "4096    1807  NSW001807            12740  NSW001807-11  Planned Maintenance   \n",
       "4097    1807  NSW001807            12744  NSW001807-15  Planned Maintenance   \n",
       "4098    1807  NSW001807            40749  NSW001807-16  Planned Maintenance   \n",
       "4099    1807  NSW001807            12743  NSW001807-14  Planned Maintenance   \n",
       "4100    1807  NSW001807            50964  NSW001807-19    Minor Maintenance   \n",
       "4101    1807  NSW001807            12738   NSW001807-9  Planned Maintenance   \n",
       "4102    1807  NSW001807            12733   NSW001807-4  Planned Maintenance   \n",
       "4115    2367  NSW002367            15463   NSW002367-8  Planned Maintenance   \n",
       "7016    2631  NSW002631            46401   NSW002631-8  Routine Maintenance   \n",
       "\n",
       "          AMSAssetRef                                   IssueDescription  \\\n",
       "134   NSW002474_STR_1  Wire mesh bird proofing top of head frame is n...   \n",
       "135   NSW002474_STR_1  Surface/light corrosion on strengthening chann...   \n",
       "136   NSW002474_STR_1  Surface to light corrosion on approx 200 bolts...   \n",
       "1952  NSW002605_STR_1  Threaded rod installed at top of steel jacket ...   \n",
       "2695  NSW002107_STR_1  Tek screws on gantry horizontal and verticle a...   \n",
       "2696  NSW002107_STR_1  Step ladder and support beams is suffering fro...   \n",
       "2697  NSW002107_STR_1  Monitor and report on heavy corrosion at base ...   \n",
       "2698  NSW002107_STR_1                 Light corrosion on TMA hose clamps   \n",
       "2699  NSW002107_STR_1  HORIZONTAL GANTRY POST HEAVEY CORROSION AT THE...   \n",
       "2700  NSW002107_STR_1                               Gantry tray corroded   \n",
       "2701  NSW002107_STR_1  \"Underside of external staircase platforms and...   \n",
       "2764  NSW002842_STR_1  Surface-Light corrosion present. All items ins...   \n",
       "3214  NSW002467_STR_1  Surface/light corrosion staining occuring betw...   \n",
       "4096  NSW001807_STR_1  Surface corrosion on antenna brackets & bolts,...   \n",
       "4097  NSW001807_STR_1   Structure suffering various degrees of corrosion   \n",
       "4098  NSW001807_STR_1  Medium to heavy corrosion present on earth str...   \n",
       "4099  NSW001807_STR_1  Heavy corrosion present. All items inspected &...   \n",
       "4100  NSW001807_STR_1  Heavy corrosion present on 1x earth strap abov...   \n",
       "4101  NSW001807_STR_1  Heavy Corroded bolts on Telstra's Head Frame a...   \n",
       "4102  NSW001807_STR_1                  Corrosion exists on the structure   \n",
       "4115  NSW002367_STR_1  Surface Corrosion on all 24 x M16 Antenna Moun...   \n",
       "7016  NSW002631_STR_1  Feeder window @ 24m cover plate bolts sufferin...   \n",
       "\n",
       "     IssueCreated                   RiskRating  \\\n",
       "134    2011-03-24                     1E - NSV   \n",
       "135    2022-12-13           3C - PM3 - 2 Years   \n",
       "136    2023-07-31           2C - PM4 - 5 Years   \n",
       "1952   2022-04-16           4B - PM3 - 4 Years   \n",
       "2695   2007-01-22         4D - UM - 1-3 Months   \n",
       "2696   2022-10-27           3C - PM3 - 2 Years   \n",
       "2697   2015-04-01         5C - PM2 - 12 Months   \n",
       "2698   2007-01-22   4C - TFP / PM3 - 18 Months   \n",
       "2699   2011-06-30                     2B - MON   \n",
       "2700   2015-04-01         5C - PM2 - 12 Months   \n",
       "2701   2022-10-27           3C - PM3 - 2 Years   \n",
       "2764   2023-07-31         5C - PM2 - 12 Months   \n",
       "3214   2022-12-02   4C - TFP / PM3 - 18 Months   \n",
       "4096   2011-01-31                     1E - NSV   \n",
       "4097   2014-08-26  3D - PM1 / SMB - 3-6 Months   \n",
       "4098   2022-05-29           3C - PM3 - 2 Years   \n",
       "4099   2014-08-26  3D - PM1 / SMB - 3-6 Months   \n",
       "4100   2023-07-14           2C - PM4 - 5 Years   \n",
       "4101   2009-03-13           5B - PM3 - 3 Years   \n",
       "4102   2018-10-31         5C - PM2 - 12 Months   \n",
       "4115   2008-12-03                     1D - NSV   \n",
       "7016   2022-11-25           4B - PM3 - 4 Years   \n",
       "\n",
       "                                           WorkRequired  ... _CreatedDate  \\\n",
       "134   Replace bird proofing mesh with new galvanised...  ...          NaT   \n",
       "135   Treat (wire brush and apply protective coat of...  ...   2022-12-13   \n",
       "136   RPAS IRM 25-07-23:  Refurbish (wire brush and ...  ...   2023-07-31   \n",
       "1952  Treat (wash off contaminants, wire brush & app...  ...   2022-04-16   \n",
       "2695  PBR 29015186Replace tek screws with 120 of M8 ...  ...          NaT   \n",
       "2696  Refurbish the External staircase/supports/hand...  ...   2022-10-27   \n",
       "2697  PDS 36423199, SP14000170, WO0000, BERMAGUI RES...  ...          NaT   \n",
       "2698  PBR 29015186 Replace 10 of hose clamps to suit...  ...          NaT   \n",
       "2699  Monitor the condition of the HORIZONTAL GANTRY...  ...          NaT   \n",
       "2700  PDS36423199. REPLACE GANTRY 300MM WIDE X 130MM...  ...          NaT   \n",
       "2701  \"Refurbish the Underside of external staircase...  ...   2022-10-27   \n",
       "2764  RPAS IRM 26-07-23: Towers to determine if stru...  ...   2023-07-31   \n",
       "3214  Check the condition of the hold down bolts at ...  ...   2022-12-02   \n",
       "4096  PBR 30869585 Wire brush and treat corrosion on...  ...          NaT   \n",
       "4097  ~Inspectors have not put all corrosion found i...  ...          NaT   \n",
       "4098  Refurbish structure earth strap.  If integrity...  ...   2022-05-29   \n",
       "4099  ~Towers Planning to review Structure Corrosion...  ...          NaT   \n",
       "4100  RPAS F01 07-07-23: Replace the heavily corrode...  ...   2023-07-14   \n",
       "4101  PBR 29663251 Replace heavily corroded bolts on...  ...          NaT   \n",
       "4102  TIM to review the F03 report & photos.  Corros...  ...          NaT   \n",
       "4115  Treat Corrosion on all 24 x M16 Antenna Mounti...  ...          NaT   \n",
       "7016  Replace bolts on feeder window covering, RPAS ...  ...   2022-11-25   \n",
       "\n",
       "                          UserLastUpdated ResourcesNeeded CreatedbyProject  \\\n",
       "134       IRM@excelriggingservices.com.au             NaN              NaN   \n",
       "135                        Debby Kirkwood             NaN              NaN   \n",
       "136                                   NaN             NaN              NaN   \n",
       "1952                       Debby Kirkwood             NaN              NaN   \n",
       "2695         Dave.Sutton@team.telstra.com             NaN              NaN   \n",
       "2696                                  NaN             NaN              NaN   \n",
       "2697       jason.j.brown@team.telstra.com             NaN              NaN   \n",
       "2698         Dave.Sutton@team.telstra.com             NaN              NaN   \n",
       "2699      IRM@excelriggingservices.com.au             NaN              NaN   \n",
       "2700      Adam.K.Jaggard@team.telstra.com             NaN              NaN   \n",
       "2701                         Peter Grogan             NaN              NaN   \n",
       "2764                         Adam Jaggard             NaN              NaN   \n",
       "3214                   Christopher Prause             NaN              NaN   \n",
       "4096       jason.j.brown@team.telstra.com             NaN              NaN   \n",
       "4097      Adam.K.Jaggard@team.telstra.com             NaN              NaN   \n",
       "4098                       Debby Kirkwood             NaN              NaN   \n",
       "4099      Adam.K.Jaggard@team.telstra.com             NaN              NaN   \n",
       "4100                                  NaN             NaN              NaN   \n",
       "4101  paul.r.fitzpatrick@team.telstra.com             NaN              NaN   \n",
       "4102      IRM@excelriggingservices.com.au             NaN              NaN   \n",
       "4115      IRM@excelriggingservices.com.au             NaN              NaN   \n",
       "7016                                  NaN             NaN              NaN   \n",
       "\n",
       "     PMProjectRef CorrosionRegionType WindRegionType StructureClassCode  \\\n",
       "134           NaN       E (Very High)              A         POLE STEEL   \n",
       "135           NaN       E (Very High)              A         POLE STEEL   \n",
       "136           NaN       E (Very High)              A         POLE STEEL   \n",
       "1952          NaN       E (Very High)              A         POLE STEEL   \n",
       "2695          NaN       E (Very High)              A  BUILDING EXTERNAL   \n",
       "2696          NaN       E (Very High)              A  BUILDING EXTERNAL   \n",
       "2697          NaN       E (Very High)              A  BUILDING EXTERNAL   \n",
       "2698          NaN       E (Very High)              A  BUILDING EXTERNAL   \n",
       "2699          NaN       E (Very High)              A  BUILDING EXTERNAL   \n",
       "2700          NaN       E (Very High)              A  BUILDING EXTERNAL   \n",
       "2701          NaN       E (Very High)              A  BUILDING EXTERNAL   \n",
       "2764          NaN       E (Very High)              A         POLE STEEL   \n",
       "3214          NaN       E (Very High)              A      POLE CONCRETE   \n",
       "4096          NaN       E (Very High)              A         POLE STEEL   \n",
       "4097          NaN       E (Very High)              A         POLE STEEL   \n",
       "4098          NaN       E (Very High)              A         POLE STEEL   \n",
       "4099          NaN       E (Very High)              A         POLE STEEL   \n",
       "4100          NaN       E (Very High)              A         POLE STEEL   \n",
       "4101          NaN       E (Very High)              A         POLE STEEL   \n",
       "4102          NaN       E (Very High)              A         POLE STEEL   \n",
       "4115          NaN       E (Very High)              A         POLE STEEL   \n",
       "7016          NaN       E (Very High)              A         POLE STEEL   \n",
       "\n",
       "     Height  StructureInstallationDate  \n",
       "134    35.0                 2006-04-18  \n",
       "135    35.0                 2006-04-18  \n",
       "136    35.0                 2006-04-18  \n",
       "1952   23.8                 2008-06-16  \n",
       "2695   19.0                 2003-02-28  \n",
       "2696   19.0                 2003-02-28  \n",
       "2697   19.0                 2003-02-28  \n",
       "2698   19.0                 2003-02-28  \n",
       "2699   19.0                 2003-02-28  \n",
       "2700   19.0                 2003-02-28  \n",
       "2701   19.0                 2003-02-28  \n",
       "2764   23.8                 2008-09-10  \n",
       "3214   30.0                 2007-08-07  \n",
       "4096   15.0                 2003-12-11  \n",
       "4097   15.0                 2003-12-11  \n",
       "4098   15.0                 2003-12-11  \n",
       "4099   15.0                 2003-12-11  \n",
       "4100   15.0                 2003-12-11  \n",
       "4101   15.0                 2003-12-11  \n",
       "4102   15.0                 2003-12-11  \n",
       "4115   30.0                 2004-06-11  \n",
       "7016   25.0                 2006-05-20  \n",
       "\n",
       "[22 rows x 39 columns]"
      ]
     },
     "execution_count": 65,
     "metadata": {},
     "output_type": "execute_result"
    }
   ],
   "source": [
    "df = df[df['AMSAssetRef'].isin(towers_selected)]\n",
    "df"
   ]
  },
  {
   "cell_type": "code",
   "execution_count": null,
   "id": "41bcabce",
   "metadata": {},
   "outputs": [
    {
     "name": "stderr",
     "output_type": "stream",
     "text": [
      "C:\\Users\\anubh\\AppData\\Local\\Temp\\ipykernel_18812\\3155822999.py:1: SettingWithCopyWarning:\n",
      "\n",
      "\n",
      "A value is trying to be set on a copy of a slice from a DataFrame.\n",
      "Try using .loc[row_indexer,col_indexer] = value instead\n",
      "\n",
      "See the caveats in the documentation: https://pandas.pydata.org/pandas-docs/stable/user_guide/indexing.html#returning-a-view-versus-a-copy\n",
      "\n"
     ]
    },
    {
     "data": {
      "text/plain": [
       "134           NSV\n",
       "135           PM3\n",
       "136           PM4\n",
       "1952          PM3\n",
       "2695           UM\n",
       "2696          PM3\n",
       "2697          PM2\n",
       "2698    TFP / PM3\n",
       "2699          MON\n",
       "2700          PM2\n",
       "2701          PM3\n",
       "2764          PM2\n",
       "3214    TFP / PM3\n",
       "4096          NSV\n",
       "4097    PM1 / SMB\n",
       "4098          PM3\n",
       "4099    PM1 / SMB\n",
       "4100          PM4\n",
       "4101          PM3\n",
       "4102          PM2\n",
       "4115          NSV\n",
       "7016          PM3\n",
       "Name: RiskRating_Cleaned, dtype: object"
      ]
     },
     "execution_count": 66,
     "metadata": {},
     "output_type": "execute_result"
    }
   ],
   "source": [
    "df['RiskRating_Cleaned'] = df['RiskRating'].str.split(' - ').str[1]"
   ]
  },
  {
   "cell_type": "code",
   "execution_count": 76,
   "id": "9b00b4e4",
   "metadata": {},
   "outputs": [],
   "source": [
    "df['RiskRating_Cleaned'] = df['RiskRating_Cleaned'].replace({'TFP / PM3': 'PM3', 'PM1 / SMB': 'PM1'})"
   ]
  },
  {
   "cell_type": "code",
   "execution_count": 77,
   "id": "a55d0f2c",
   "metadata": {},
   "outputs": [
    {
     "data": {
      "application/vnd.plotly.v1+json": {
       "config": {
        "plotlyServerURL": "https://plot.ly"
       },
       "data": [
        {
         "marker": {
          "color": "blue",
          "line": {
           "color": "blue",
           "width": 1
          },
          "size": 12
         },
         "mode": "markers+text",
         "name": "NSV - Work that can be completed by the next person going to site.",
         "showlegend": true,
         "text": [
          "NSV"
         ],
         "textposition": "top center",
         "type": "scatter",
         "x": [
          "2011-03-24T00:00:00"
         ],
         "xaxis": "x",
         "y": [
          5
         ],
         "yaxis": "y"
        },
        {
         "marker": {
          "color": "green",
          "line": {
           "color": "green",
           "width": 1
          },
          "size": 12
         },
         "mode": "markers+text",
         "name": "PM3 - Must be completed within 4 years depending on rating.",
         "showlegend": true,
         "text": [
          "PM3"
         ],
         "textposition": "top center",
         "type": "scatter",
         "x": [
          "2022-12-13T00:00:00"
         ],
         "xaxis": "x",
         "y": [
          7
         ],
         "yaxis": "y"
        },
        {
         "marker": {
          "color": "green",
          "line": {
           "color": "green",
           "width": 1
          },
          "size": 12
         },
         "mode": "markers+text",
         "name": "PM4 - Must be completed within 10 years depending on rating.",
         "showlegend": true,
         "text": [
          "PM4"
         ],
         "textposition": "top center",
         "type": "scatter",
         "x": [
          "2023-07-31T00:00:00"
         ],
         "xaxis": "x",
         "y": [
          6
         ],
         "yaxis": "y"
        },
        {
         "marker": {
          "color": "green",
          "line": {
           "color": "green",
           "width": 1
          },
          "size": 12
         },
         "mode": "markers+text",
         "name": "PM3 - Must be completed within 4 years depending on rating.",
         "showlegend": true,
         "text": [
          "PM3"
         ],
         "textposition": "top center",
         "type": "scatter",
         "x": [
          "2022-04-16T00:00:00"
         ],
         "xaxis": "x2",
         "y": [
          7
         ],
         "yaxis": "y2"
        },
        {
         "marker": {
          "color": "orange",
          "line": {
           "color": "orange",
           "width": 1
          },
          "size": 12
         },
         "mode": "markers+text",
         "name": "UM - Must be completed within 3 months of notification.",
         "showlegend": true,
         "text": [
          "UM"
         ],
         "textposition": "top center",
         "type": "scatter",
         "x": [
          "2007-01-22T00:00:00"
         ],
         "xaxis": "x3",
         "y": [
          10
         ],
         "yaxis": "y3"
        },
        {
         "marker": {
          "color": "green",
          "line": {
           "color": "green",
           "width": 1
          },
          "size": 12
         },
         "mode": "markers+text",
         "name": "PM3 - Must be completed within 4 years depending on rating.",
         "showlegend": true,
         "text": [
          "PM3",
          "PM3",
          "PM3"
         ],
         "textposition": "top center",
         "type": "scatter",
         "x": [
          "2022-10-27T00:00:00",
          "2007-01-22T00:00:00",
          "2022-10-27T00:00:00"
         ],
         "xaxis": "x3",
         "y": [
          7,
          7,
          7
         ],
         "yaxis": "y3"
        },
        {
         "marker": {
          "color": "green",
          "line": {
           "color": "green",
           "width": 1
          },
          "size": 12
         },
         "mode": "markers+text",
         "name": "PM2 - Must be completed within 12 months depending on rating.",
         "showlegend": true,
         "text": [
          "PM2",
          "PM2"
         ],
         "textposition": "top center",
         "type": "scatter",
         "x": [
          "2015-04-01T00:00:00",
          "2015-04-01T00:00:00"
         ],
         "xaxis": "x3",
         "y": [
          8,
          8
         ],
         "yaxis": "y3"
        },
        {
         "marker": {
          "color": "blue",
          "line": {
           "color": "blue",
           "width": 1
          },
          "size": 12
         },
         "mode": "markers+text",
         "name": "MON - Monitor Next Inspection / Site Visit.",
         "showlegend": true,
         "text": [
          "MON"
         ],
         "textposition": "top center",
         "type": "scatter",
         "x": [
          "2011-06-30T00:00:00"
         ],
         "xaxis": "x3",
         "y": [
          3
         ],
         "yaxis": "y3"
        },
        {
         "marker": {
          "color": "green",
          "line": {
           "color": "green",
           "width": 1
          },
          "size": 12
         },
         "mode": "markers+text",
         "name": "PM2 - Must be completed within 12 months depending on rating.",
         "showlegend": true,
         "text": [
          "PM2"
         ],
         "textposition": "top center",
         "type": "scatter",
         "x": [
          "2023-07-31T00:00:00"
         ],
         "xaxis": "x4",
         "y": [
          8
         ],
         "yaxis": "y4"
        },
        {
         "marker": {
          "color": "green",
          "line": {
           "color": "green",
           "width": 1
          },
          "size": 12
         },
         "mode": "markers+text",
         "name": "PM3 - Must be completed within 4 years depending on rating.",
         "showlegend": true,
         "text": [
          "PM3"
         ],
         "textposition": "top center",
         "type": "scatter",
         "x": [
          "2022-12-02T00:00:00"
         ],
         "xaxis": "x5",
         "y": [
          7
         ],
         "yaxis": "y5"
        },
        {
         "marker": {
          "color": "blue",
          "line": {
           "color": "blue",
           "width": 1
          },
          "size": 12
         },
         "mode": "markers+text",
         "name": "NSV - Work that can be completed by the next person going to site.",
         "showlegend": true,
         "text": [
          "NSV"
         ],
         "textposition": "top center",
         "type": "scatter",
         "x": [
          "2011-01-31T00:00:00"
         ],
         "xaxis": "x6",
         "y": [
          5
         ],
         "yaxis": "y6"
        },
        {
         "marker": {
          "color": "yellow",
          "line": {
           "color": "yellow",
           "width": 1
          },
          "size": 12
         },
         "mode": "markers+text",
         "name": "PM1 - Must be completed within 6 months.",
         "showlegend": true,
         "text": [
          "PM1",
          "PM1"
         ],
         "textposition": "top center",
         "type": "scatter",
         "x": [
          "2014-08-26T00:00:00",
          "2014-08-26T00:00:00"
         ],
         "xaxis": "x6",
         "y": [
          9,
          9
         ],
         "yaxis": "y6"
        },
        {
         "marker": {
          "color": "green",
          "line": {
           "color": "green",
           "width": 1
          },
          "size": 12
         },
         "mode": "markers+text",
         "name": "PM3 - Must be completed within 4 years depending on rating.",
         "showlegend": true,
         "text": [
          "PM3",
          "PM3"
         ],
         "textposition": "top center",
         "type": "scatter",
         "x": [
          "2022-05-29T00:00:00",
          "2009-03-13T00:00:00"
         ],
         "xaxis": "x6",
         "y": [
          7,
          7
         ],
         "yaxis": "y6"
        },
        {
         "marker": {
          "color": "green",
          "line": {
           "color": "green",
           "width": 1
          },
          "size": 12
         },
         "mode": "markers+text",
         "name": "PM4 - Must be completed within 10 years depending on rating.",
         "showlegend": true,
         "text": [
          "PM4"
         ],
         "textposition": "top center",
         "type": "scatter",
         "x": [
          "2023-07-14T00:00:00"
         ],
         "xaxis": "x6",
         "y": [
          6
         ],
         "yaxis": "y6"
        },
        {
         "marker": {
          "color": "green",
          "line": {
           "color": "green",
           "width": 1
          },
          "size": 12
         },
         "mode": "markers+text",
         "name": "PM2 - Must be completed within 12 months depending on rating.",
         "showlegend": true,
         "text": [
          "PM2"
         ],
         "textposition": "top center",
         "type": "scatter",
         "x": [
          "2018-10-31T00:00:00"
         ],
         "xaxis": "x6",
         "y": [
          8
         ],
         "yaxis": "y6"
        },
        {
         "marker": {
          "color": "blue",
          "line": {
           "color": "blue",
           "width": 1
          },
          "size": 12
         },
         "mode": "markers+text",
         "name": "NSV - Work that can be completed by the next person going to site.",
         "showlegend": true,
         "text": [
          "NSV"
         ],
         "textposition": "top center",
         "type": "scatter",
         "x": [
          "2008-12-03T00:00:00"
         ],
         "xaxis": "x7",
         "y": [
          5
         ],
         "yaxis": "y7"
        },
        {
         "marker": {
          "color": "green",
          "line": {
           "color": "green",
           "width": 1
          },
          "size": 12
         },
         "mode": "markers+text",
         "name": "PM3 - Must be completed within 4 years depending on rating.",
         "showlegend": true,
         "text": [
          "PM3"
         ],
         "textposition": "top center",
         "type": "scatter",
         "x": [
          "2022-11-25T00:00:00"
         ],
         "xaxis": "x8",
         "y": [
          7
         ],
         "yaxis": "y8"
        },
        {
         "cells": {
          "align": "center",
          "fill": {
           "color": "rgb(30, 30, 30)"
          },
          "font": {
           "color": "white"
          },
          "values": [
           [
            "EM",
            "EM1",
            "EM2",
            "EM3",
            "UM",
            "PM1",
            "PM2",
            "PM3",
            "PM4",
            "NSV",
            "TFP",
            "MON",
            "FXD",
            "NID",
            "LCR"
           ],
           [
            14,
            13,
            12,
            11,
            10,
            9,
            8,
            7,
            6,
            5,
            4,
            3,
            2,
            1,
            0
           ],
           [
            "<b style=\"color:red\">red</b>",
            "<b style=\"color:red\">red</b>",
            "<b style=\"color:red\">red</b>",
            "<b style=\"color:red\">red</b>",
            "<b style=\"color:orange\">orange</b>",
            "<b style=\"color:yellow\">yellow</b>",
            "<b style=\"color:green\">green</b>",
            "<b style=\"color:green\">green</b>",
            "<b style=\"color:green\">green</b>",
            "<b style=\"color:blue\">blue</b>",
            "<b style=\"color:blue\">blue</b>",
            "<b style=\"color:blue\">blue</b>",
            "<b style=\"color:gray\">gray</b>",
            "<b style=\"color:gray\">gray</b>",
            "<b style=\"color:gray\">gray</b>"
           ]
          ]
         },
         "domain": {
          "x": [
           0.85,
           1
          ],
          "y": [
           0,
           1
          ]
         },
         "header": {
          "align": "center",
          "fill": {
           "color": "rgb(50, 50, 50)"
          },
          "font": {
           "color": "white"
          },
          "values": [
           "Severity",
           "Level",
           "Color"
          ]
         },
         "type": "table"
        }
       ],
       "layout": {
        "annotations": [
         {
          "font": {
           "size": 16
          },
          "showarrow": false,
          "text": "Tower: NSW002474_STR_1",
          "x": 0.5,
          "xanchor": "center",
          "xref": "paper",
          "y": 1,
          "yanchor": "bottom",
          "yref": "paper"
         },
         {
          "font": {
           "size": 16
          },
          "showarrow": false,
          "text": "Tower: NSW002605_STR_1",
          "x": 0.5,
          "xanchor": "center",
          "xref": "paper",
          "y": 0.8687499999999999,
          "yanchor": "bottom",
          "yref": "paper"
         },
         {
          "font": {
           "size": 16
          },
          "showarrow": false,
          "text": "Tower: NSW002107_STR_1",
          "x": 0.5,
          "xanchor": "center",
          "xref": "paper",
          "y": 0.7375,
          "yanchor": "bottom",
          "yref": "paper"
         },
         {
          "font": {
           "size": 16
          },
          "showarrow": false,
          "text": "Tower: NSW002842_STR_1",
          "x": 0.5,
          "xanchor": "center",
          "xref": "paper",
          "y": 0.60625,
          "yanchor": "bottom",
          "yref": "paper"
         },
         {
          "font": {
           "size": 16
          },
          "showarrow": false,
          "text": "Tower: NSW002467_STR_1",
          "x": 0.5,
          "xanchor": "center",
          "xref": "paper",
          "y": 0.475,
          "yanchor": "bottom",
          "yref": "paper"
         },
         {
          "font": {
           "size": 16
          },
          "showarrow": false,
          "text": "Tower: NSW001807_STR_1",
          "x": 0.5,
          "xanchor": "center",
          "xref": "paper",
          "y": 0.34374999999999994,
          "yanchor": "bottom",
          "yref": "paper"
         },
         {
          "font": {
           "size": 16
          },
          "showarrow": false,
          "text": "Tower: NSW002367_STR_1",
          "x": 0.5,
          "xanchor": "center",
          "xref": "paper",
          "y": 0.21249999999999997,
          "yanchor": "bottom",
          "yref": "paper"
         },
         {
          "font": {
           "size": 16
          },
          "showarrow": false,
          "text": "Tower: NSW002631_STR_1",
          "x": 0.5,
          "xanchor": "center",
          "xref": "paper",
          "y": 0.08124999999999999,
          "yanchor": "bottom",
          "yref": "paper"
         },
         {
          "font": {
           "color": "red",
           "size": 10
          },
          "showarrow": false,
          "text": "2011-03-24",
          "textangle": 90,
          "x": "2011-03-24T00:00:00",
          "xanchor": "center",
          "xref": "x",
          "y": 0,
          "yanchor": "bottom",
          "yref": "y"
         },
         {
          "font": {
           "color": "red",
           "size": 10
          },
          "showarrow": false,
          "text": "2022-12-13",
          "textangle": 90,
          "x": "2022-12-13T00:00:00",
          "xanchor": "center",
          "xref": "x",
          "y": 0,
          "yanchor": "bottom",
          "yref": "y"
         },
         {
          "font": {
           "color": "red",
           "size": 10
          },
          "showarrow": false,
          "text": "2023-07-31",
          "textangle": 90,
          "x": "2023-07-31T00:00:00",
          "xanchor": "center",
          "xref": "x",
          "y": 0,
          "yanchor": "bottom",
          "yref": "y"
         },
         {
          "font": {
           "color": "red",
           "size": 10
          },
          "showarrow": false,
          "text": "2022-04-16",
          "textangle": 90,
          "x": "2022-04-16T00:00:00",
          "xanchor": "center",
          "xref": "x2",
          "y": 0,
          "yanchor": "bottom",
          "yref": "y2"
         },
         {
          "font": {
           "color": "red",
           "size": 10
          },
          "showarrow": false,
          "text": "2007-01-22",
          "textangle": 90,
          "x": "2007-01-22T00:00:00",
          "xanchor": "center",
          "xref": "x3",
          "y": 0,
          "yanchor": "bottom",
          "yref": "y3"
         },
         {
          "font": {
           "color": "red",
           "size": 10
          },
          "showarrow": false,
          "text": "2022-10-27",
          "textangle": 90,
          "x": "2022-10-27T00:00:00",
          "xanchor": "center",
          "xref": "x3",
          "y": 0,
          "yanchor": "bottom",
          "yref": "y3"
         },
         {
          "font": {
           "color": "red",
           "size": 10
          },
          "showarrow": false,
          "text": "2015-04-01",
          "textangle": 90,
          "x": "2015-04-01T00:00:00",
          "xanchor": "center",
          "xref": "x3",
          "y": 0,
          "yanchor": "bottom",
          "yref": "y3"
         },
         {
          "font": {
           "color": "red",
           "size": 10
          },
          "showarrow": false,
          "text": "2007-01-22",
          "textangle": 90,
          "x": "2007-01-22T00:00:00",
          "xanchor": "center",
          "xref": "x3",
          "y": 0,
          "yanchor": "bottom",
          "yref": "y3"
         },
         {
          "font": {
           "color": "red",
           "size": 10
          },
          "showarrow": false,
          "text": "2011-06-30",
          "textangle": 90,
          "x": "2011-06-30T00:00:00",
          "xanchor": "center",
          "xref": "x3",
          "y": 0,
          "yanchor": "bottom",
          "yref": "y3"
         },
         {
          "font": {
           "color": "red",
           "size": 10
          },
          "showarrow": false,
          "text": "2015-04-01",
          "textangle": 90,
          "x": "2015-04-01T00:00:00",
          "xanchor": "center",
          "xref": "x3",
          "y": 0,
          "yanchor": "bottom",
          "yref": "y3"
         },
         {
          "font": {
           "color": "red",
           "size": 10
          },
          "showarrow": false,
          "text": "2022-10-27",
          "textangle": 90,
          "x": "2022-10-27T00:00:00",
          "xanchor": "center",
          "xref": "x3",
          "y": 0,
          "yanchor": "bottom",
          "yref": "y3"
         },
         {
          "font": {
           "color": "red",
           "size": 10
          },
          "showarrow": false,
          "text": "2023-07-31",
          "textangle": 90,
          "x": "2023-07-31T00:00:00",
          "xanchor": "center",
          "xref": "x4",
          "y": 0,
          "yanchor": "bottom",
          "yref": "y4"
         },
         {
          "font": {
           "color": "red",
           "size": 10
          },
          "showarrow": false,
          "text": "2022-12-02",
          "textangle": 90,
          "x": "2022-12-02T00:00:00",
          "xanchor": "center",
          "xref": "x5",
          "y": 0,
          "yanchor": "bottom",
          "yref": "y5"
         },
         {
          "font": {
           "color": "red",
           "size": 10
          },
          "showarrow": false,
          "text": "2011-01-31",
          "textangle": 90,
          "x": "2011-01-31T00:00:00",
          "xanchor": "center",
          "xref": "x6",
          "y": 0,
          "yanchor": "bottom",
          "yref": "y6"
         },
         {
          "font": {
           "color": "red",
           "size": 10
          },
          "showarrow": false,
          "text": "2014-08-26",
          "textangle": 90,
          "x": "2014-08-26T00:00:00",
          "xanchor": "center",
          "xref": "x6",
          "y": 0,
          "yanchor": "bottom",
          "yref": "y6"
         },
         {
          "font": {
           "color": "red",
           "size": 10
          },
          "showarrow": false,
          "text": "2022-05-29",
          "textangle": 90,
          "x": "2022-05-29T00:00:00",
          "xanchor": "center",
          "xref": "x6",
          "y": 0,
          "yanchor": "bottom",
          "yref": "y6"
         },
         {
          "font": {
           "color": "red",
           "size": 10
          },
          "showarrow": false,
          "text": "2014-08-26",
          "textangle": 90,
          "x": "2014-08-26T00:00:00",
          "xanchor": "center",
          "xref": "x6",
          "y": 0,
          "yanchor": "bottom",
          "yref": "y6"
         },
         {
          "font": {
           "color": "red",
           "size": 10
          },
          "showarrow": false,
          "text": "2023-07-14",
          "textangle": 90,
          "x": "2023-07-14T00:00:00",
          "xanchor": "center",
          "xref": "x6",
          "y": 0,
          "yanchor": "bottom",
          "yref": "y6"
         },
         {
          "font": {
           "color": "red",
           "size": 10
          },
          "showarrow": false,
          "text": "2009-03-13",
          "textangle": 90,
          "x": "2009-03-13T00:00:00",
          "xanchor": "center",
          "xref": "x6",
          "y": 0,
          "yanchor": "bottom",
          "yref": "y6"
         },
         {
          "font": {
           "color": "red",
           "size": 10
          },
          "showarrow": false,
          "text": "2018-10-31",
          "textangle": 90,
          "x": "2018-10-31T00:00:00",
          "xanchor": "center",
          "xref": "x6",
          "y": 0,
          "yanchor": "bottom",
          "yref": "y6"
         },
         {
          "font": {
           "color": "red",
           "size": 10
          },
          "showarrow": false,
          "text": "2008-12-03",
          "textangle": 90,
          "x": "2008-12-03T00:00:00",
          "xanchor": "center",
          "xref": "x7",
          "y": 0,
          "yanchor": "bottom",
          "yref": "y7"
         },
         {
          "font": {
           "color": "red",
           "size": 10
          },
          "showarrow": false,
          "text": "2022-11-25",
          "textangle": 90,
          "x": "2022-11-25T00:00:00",
          "xanchor": "center",
          "xref": "x8",
          "y": 0,
          "yanchor": "bottom",
          "yref": "y8"
         }
        ],
        "font": {
         "color": "white"
        },
        "height": 3200,
        "legend": {
         "bgcolor": "rgba(50, 50, 50, 0.8)",
         "bordercolor": "white",
         "borderwidth": 1,
         "font": {
          "size": 10
         },
         "title": {
          "text": "Severity Levels & Definitions"
         },
         "x": 0.65,
         "xanchor": "left",
         "y": 1,
         "yanchor": "top"
        },
        "margin": {
         "r": 200
        },
        "paper_bgcolor": "rgb(30, 30, 30)",
        "plot_bgcolor": "rgb(30, 30, 30)",
        "shapes": [
         {
          "line": {
           "color": "red",
           "dash": "dot",
           "width": 1
          },
          "type": "line",
          "x0": 1300924800000,
          "x1": 1300924800000,
          "xref": "x",
          "y0": 0,
          "y1": 1,
          "yref": "y domain"
         },
         {
          "line": {
           "color": "red",
           "dash": "dot",
           "width": 1
          },
          "type": "line",
          "x0": 1670889600000,
          "x1": 1670889600000,
          "xref": "x",
          "y0": 0,
          "y1": 1,
          "yref": "y domain"
         },
         {
          "line": {
           "color": "red",
           "dash": "dot",
           "width": 1
          },
          "type": "line",
          "x0": 1690761600000,
          "x1": 1690761600000,
          "xref": "x",
          "y0": 0,
          "y1": 1,
          "yref": "y domain"
         },
         {
          "line": {
           "color": "red",
           "dash": "dot",
           "width": 1
          },
          "type": "line",
          "x0": 1650067200000,
          "x1": 1650067200000,
          "xref": "x2",
          "y0": 0,
          "y1": 1,
          "yref": "y2 domain"
         },
         {
          "line": {
           "color": "red",
           "dash": "dot",
           "width": 1
          },
          "type": "line",
          "x0": 1169424000000,
          "x1": 1169424000000,
          "xref": "x3",
          "y0": 0,
          "y1": 1,
          "yref": "y3 domain"
         },
         {
          "line": {
           "color": "red",
           "dash": "dot",
           "width": 1
          },
          "type": "line",
          "x0": 1666828800000,
          "x1": 1666828800000,
          "xref": "x3",
          "y0": 0,
          "y1": 1,
          "yref": "y3 domain"
         },
         {
          "line": {
           "color": "red",
           "dash": "dot",
           "width": 1
          },
          "type": "line",
          "x0": 1427846400000,
          "x1": 1427846400000,
          "xref": "x3",
          "y0": 0,
          "y1": 1,
          "yref": "y3 domain"
         },
         {
          "line": {
           "color": "red",
           "dash": "dot",
           "width": 1
          },
          "type": "line",
          "x0": 1169424000000,
          "x1": 1169424000000,
          "xref": "x3",
          "y0": 0,
          "y1": 1,
          "yref": "y3 domain"
         },
         {
          "line": {
           "color": "red",
           "dash": "dot",
           "width": 1
          },
          "type": "line",
          "x0": 1309392000000,
          "x1": 1309392000000,
          "xref": "x3",
          "y0": 0,
          "y1": 1,
          "yref": "y3 domain"
         },
         {
          "line": {
           "color": "red",
           "dash": "dot",
           "width": 1
          },
          "type": "line",
          "x0": 1427846400000,
          "x1": 1427846400000,
          "xref": "x3",
          "y0": 0,
          "y1": 1,
          "yref": "y3 domain"
         },
         {
          "line": {
           "color": "red",
           "dash": "dot",
           "width": 1
          },
          "type": "line",
          "x0": 1666828800000,
          "x1": 1666828800000,
          "xref": "x3",
          "y0": 0,
          "y1": 1,
          "yref": "y3 domain"
         },
         {
          "line": {
           "color": "red",
           "dash": "dot",
           "width": 1
          },
          "type": "line",
          "x0": 1690761600000,
          "x1": 1690761600000,
          "xref": "x4",
          "y0": 0,
          "y1": 1,
          "yref": "y4 domain"
         },
         {
          "line": {
           "color": "red",
           "dash": "dot",
           "width": 1
          },
          "type": "line",
          "x0": 1669939200000,
          "x1": 1669939200000,
          "xref": "x5",
          "y0": 0,
          "y1": 1,
          "yref": "y5 domain"
         },
         {
          "line": {
           "color": "red",
           "dash": "dot",
           "width": 1
          },
          "type": "line",
          "x0": 1296432000000,
          "x1": 1296432000000,
          "xref": "x6",
          "y0": 0,
          "y1": 1,
          "yref": "y6 domain"
         },
         {
          "line": {
           "color": "red",
           "dash": "dot",
           "width": 1
          },
          "type": "line",
          "x0": 1409011200000,
          "x1": 1409011200000,
          "xref": "x6",
          "y0": 0,
          "y1": 1,
          "yref": "y6 domain"
         },
         {
          "line": {
           "color": "red",
           "dash": "dot",
           "width": 1
          },
          "type": "line",
          "x0": 1653782400000,
          "x1": 1653782400000,
          "xref": "x6",
          "y0": 0,
          "y1": 1,
          "yref": "y6 domain"
         },
         {
          "line": {
           "color": "red",
           "dash": "dot",
           "width": 1
          },
          "type": "line",
          "x0": 1409011200000,
          "x1": 1409011200000,
          "xref": "x6",
          "y0": 0,
          "y1": 1,
          "yref": "y6 domain"
         },
         {
          "line": {
           "color": "red",
           "dash": "dot",
           "width": 1
          },
          "type": "line",
          "x0": 1689292800000,
          "x1": 1689292800000,
          "xref": "x6",
          "y0": 0,
          "y1": 1,
          "yref": "y6 domain"
         },
         {
          "line": {
           "color": "red",
           "dash": "dot",
           "width": 1
          },
          "type": "line",
          "x0": 1236902400000,
          "x1": 1236902400000,
          "xref": "x6",
          "y0": 0,
          "y1": 1,
          "yref": "y6 domain"
         },
         {
          "line": {
           "color": "red",
           "dash": "dot",
           "width": 1
          },
          "type": "line",
          "x0": 1540944000000,
          "x1": 1540944000000,
          "xref": "x6",
          "y0": 0,
          "y1": 1,
          "yref": "y6 domain"
         },
         {
          "line": {
           "color": "red",
           "dash": "dot",
           "width": 1
          },
          "type": "line",
          "x0": 1228262400000,
          "x1": 1228262400000,
          "xref": "x7",
          "y0": 0,
          "y1": 1,
          "yref": "y7 domain"
         },
         {
          "line": {
           "color": "red",
           "dash": "dot",
           "width": 1
          },
          "type": "line",
          "x0": 1669334400000,
          "x1": 1669334400000,
          "xref": "x8",
          "y0": 0,
          "y1": 1,
          "yref": "y8 domain"
         }
        ],
        "template": {
         "data": {
          "bar": [
           {
            "error_x": {
             "color": "#2a3f5f"
            },
            "error_y": {
             "color": "#2a3f5f"
            },
            "marker": {
             "line": {
              "color": "#E5ECF6",
              "width": 0.5
             },
             "pattern": {
              "fillmode": "overlay",
              "size": 10,
              "solidity": 0.2
             }
            },
            "type": "bar"
           }
          ],
          "barpolar": [
           {
            "marker": {
             "line": {
              "color": "#E5ECF6",
              "width": 0.5
             },
             "pattern": {
              "fillmode": "overlay",
              "size": 10,
              "solidity": 0.2
             }
            },
            "type": "barpolar"
           }
          ],
          "carpet": [
           {
            "aaxis": {
             "endlinecolor": "#2a3f5f",
             "gridcolor": "white",
             "linecolor": "white",
             "minorgridcolor": "white",
             "startlinecolor": "#2a3f5f"
            },
            "baxis": {
             "endlinecolor": "#2a3f5f",
             "gridcolor": "white",
             "linecolor": "white",
             "minorgridcolor": "white",
             "startlinecolor": "#2a3f5f"
            },
            "type": "carpet"
           }
          ],
          "choropleth": [
           {
            "colorbar": {
             "outlinewidth": 0,
             "ticks": ""
            },
            "type": "choropleth"
           }
          ],
          "contour": [
           {
            "colorbar": {
             "outlinewidth": 0,
             "ticks": ""
            },
            "colorscale": [
             [
              0,
              "#0d0887"
             ],
             [
              0.1111111111111111,
              "#46039f"
             ],
             [
              0.2222222222222222,
              "#7201a8"
             ],
             [
              0.3333333333333333,
              "#9c179e"
             ],
             [
              0.4444444444444444,
              "#bd3786"
             ],
             [
              0.5555555555555556,
              "#d8576b"
             ],
             [
              0.6666666666666666,
              "#ed7953"
             ],
             [
              0.7777777777777778,
              "#fb9f3a"
             ],
             [
              0.8888888888888888,
              "#fdca26"
             ],
             [
              1,
              "#f0f921"
             ]
            ],
            "type": "contour"
           }
          ],
          "contourcarpet": [
           {
            "colorbar": {
             "outlinewidth": 0,
             "ticks": ""
            },
            "type": "contourcarpet"
           }
          ],
          "heatmap": [
           {
            "colorbar": {
             "outlinewidth": 0,
             "ticks": ""
            },
            "colorscale": [
             [
              0,
              "#0d0887"
             ],
             [
              0.1111111111111111,
              "#46039f"
             ],
             [
              0.2222222222222222,
              "#7201a8"
             ],
             [
              0.3333333333333333,
              "#9c179e"
             ],
             [
              0.4444444444444444,
              "#bd3786"
             ],
             [
              0.5555555555555556,
              "#d8576b"
             ],
             [
              0.6666666666666666,
              "#ed7953"
             ],
             [
              0.7777777777777778,
              "#fb9f3a"
             ],
             [
              0.8888888888888888,
              "#fdca26"
             ],
             [
              1,
              "#f0f921"
             ]
            ],
            "type": "heatmap"
           }
          ],
          "heatmapgl": [
           {
            "colorbar": {
             "outlinewidth": 0,
             "ticks": ""
            },
            "colorscale": [
             [
              0,
              "#0d0887"
             ],
             [
              0.1111111111111111,
              "#46039f"
             ],
             [
              0.2222222222222222,
              "#7201a8"
             ],
             [
              0.3333333333333333,
              "#9c179e"
             ],
             [
              0.4444444444444444,
              "#bd3786"
             ],
             [
              0.5555555555555556,
              "#d8576b"
             ],
             [
              0.6666666666666666,
              "#ed7953"
             ],
             [
              0.7777777777777778,
              "#fb9f3a"
             ],
             [
              0.8888888888888888,
              "#fdca26"
             ],
             [
              1,
              "#f0f921"
             ]
            ],
            "type": "heatmapgl"
           }
          ],
          "histogram": [
           {
            "marker": {
             "pattern": {
              "fillmode": "overlay",
              "size": 10,
              "solidity": 0.2
             }
            },
            "type": "histogram"
           }
          ],
          "histogram2d": [
           {
            "colorbar": {
             "outlinewidth": 0,
             "ticks": ""
            },
            "colorscale": [
             [
              0,
              "#0d0887"
             ],
             [
              0.1111111111111111,
              "#46039f"
             ],
             [
              0.2222222222222222,
              "#7201a8"
             ],
             [
              0.3333333333333333,
              "#9c179e"
             ],
             [
              0.4444444444444444,
              "#bd3786"
             ],
             [
              0.5555555555555556,
              "#d8576b"
             ],
             [
              0.6666666666666666,
              "#ed7953"
             ],
             [
              0.7777777777777778,
              "#fb9f3a"
             ],
             [
              0.8888888888888888,
              "#fdca26"
             ],
             [
              1,
              "#f0f921"
             ]
            ],
            "type": "histogram2d"
           }
          ],
          "histogram2dcontour": [
           {
            "colorbar": {
             "outlinewidth": 0,
             "ticks": ""
            },
            "colorscale": [
             [
              0,
              "#0d0887"
             ],
             [
              0.1111111111111111,
              "#46039f"
             ],
             [
              0.2222222222222222,
              "#7201a8"
             ],
             [
              0.3333333333333333,
              "#9c179e"
             ],
             [
              0.4444444444444444,
              "#bd3786"
             ],
             [
              0.5555555555555556,
              "#d8576b"
             ],
             [
              0.6666666666666666,
              "#ed7953"
             ],
             [
              0.7777777777777778,
              "#fb9f3a"
             ],
             [
              0.8888888888888888,
              "#fdca26"
             ],
             [
              1,
              "#f0f921"
             ]
            ],
            "type": "histogram2dcontour"
           }
          ],
          "mesh3d": [
           {
            "colorbar": {
             "outlinewidth": 0,
             "ticks": ""
            },
            "type": "mesh3d"
           }
          ],
          "parcoords": [
           {
            "line": {
             "colorbar": {
              "outlinewidth": 0,
              "ticks": ""
             }
            },
            "type": "parcoords"
           }
          ],
          "pie": [
           {
            "automargin": true,
            "type": "pie"
           }
          ],
          "scatter": [
           {
            "fillpattern": {
             "fillmode": "overlay",
             "size": 10,
             "solidity": 0.2
            },
            "type": "scatter"
           }
          ],
          "scatter3d": [
           {
            "line": {
             "colorbar": {
              "outlinewidth": 0,
              "ticks": ""
             }
            },
            "marker": {
             "colorbar": {
              "outlinewidth": 0,
              "ticks": ""
             }
            },
            "type": "scatter3d"
           }
          ],
          "scattercarpet": [
           {
            "marker": {
             "colorbar": {
              "outlinewidth": 0,
              "ticks": ""
             }
            },
            "type": "scattercarpet"
           }
          ],
          "scattergeo": [
           {
            "marker": {
             "colorbar": {
              "outlinewidth": 0,
              "ticks": ""
             }
            },
            "type": "scattergeo"
           }
          ],
          "scattergl": [
           {
            "marker": {
             "colorbar": {
              "outlinewidth": 0,
              "ticks": ""
             }
            },
            "type": "scattergl"
           }
          ],
          "scattermapbox": [
           {
            "marker": {
             "colorbar": {
              "outlinewidth": 0,
              "ticks": ""
             }
            },
            "type": "scattermapbox"
           }
          ],
          "scatterpolar": [
           {
            "marker": {
             "colorbar": {
              "outlinewidth": 0,
              "ticks": ""
             }
            },
            "type": "scatterpolar"
           }
          ],
          "scatterpolargl": [
           {
            "marker": {
             "colorbar": {
              "outlinewidth": 0,
              "ticks": ""
             }
            },
            "type": "scatterpolargl"
           }
          ],
          "scatterternary": [
           {
            "marker": {
             "colorbar": {
              "outlinewidth": 0,
              "ticks": ""
             }
            },
            "type": "scatterternary"
           }
          ],
          "surface": [
           {
            "colorbar": {
             "outlinewidth": 0,
             "ticks": ""
            },
            "colorscale": [
             [
              0,
              "#0d0887"
             ],
             [
              0.1111111111111111,
              "#46039f"
             ],
             [
              0.2222222222222222,
              "#7201a8"
             ],
             [
              0.3333333333333333,
              "#9c179e"
             ],
             [
              0.4444444444444444,
              "#bd3786"
             ],
             [
              0.5555555555555556,
              "#d8576b"
             ],
             [
              0.6666666666666666,
              "#ed7953"
             ],
             [
              0.7777777777777778,
              "#fb9f3a"
             ],
             [
              0.8888888888888888,
              "#fdca26"
             ],
             [
              1,
              "#f0f921"
             ]
            ],
            "type": "surface"
           }
          ],
          "table": [
           {
            "cells": {
             "fill": {
              "color": "#EBF0F8"
             },
             "line": {
              "color": "white"
             }
            },
            "header": {
             "fill": {
              "color": "#C8D4E3"
             },
             "line": {
              "color": "white"
             }
            },
            "type": "table"
           }
          ]
         },
         "layout": {
          "annotationdefaults": {
           "arrowcolor": "#2a3f5f",
           "arrowhead": 0,
           "arrowwidth": 1
          },
          "autotypenumbers": "strict",
          "coloraxis": {
           "colorbar": {
            "outlinewidth": 0,
            "ticks": ""
           }
          },
          "colorscale": {
           "diverging": [
            [
             0,
             "#8e0152"
            ],
            [
             0.1,
             "#c51b7d"
            ],
            [
             0.2,
             "#de77ae"
            ],
            [
             0.3,
             "#f1b6da"
            ],
            [
             0.4,
             "#fde0ef"
            ],
            [
             0.5,
             "#f7f7f7"
            ],
            [
             0.6,
             "#e6f5d0"
            ],
            [
             0.7,
             "#b8e186"
            ],
            [
             0.8,
             "#7fbc41"
            ],
            [
             0.9,
             "#4d9221"
            ],
            [
             1,
             "#276419"
            ]
           ],
           "sequential": [
            [
             0,
             "#0d0887"
            ],
            [
             0.1111111111111111,
             "#46039f"
            ],
            [
             0.2222222222222222,
             "#7201a8"
            ],
            [
             0.3333333333333333,
             "#9c179e"
            ],
            [
             0.4444444444444444,
             "#bd3786"
            ],
            [
             0.5555555555555556,
             "#d8576b"
            ],
            [
             0.6666666666666666,
             "#ed7953"
            ],
            [
             0.7777777777777778,
             "#fb9f3a"
            ],
            [
             0.8888888888888888,
             "#fdca26"
            ],
            [
             1,
             "#f0f921"
            ]
           ],
           "sequentialminus": [
            [
             0,
             "#0d0887"
            ],
            [
             0.1111111111111111,
             "#46039f"
            ],
            [
             0.2222222222222222,
             "#7201a8"
            ],
            [
             0.3333333333333333,
             "#9c179e"
            ],
            [
             0.4444444444444444,
             "#bd3786"
            ],
            [
             0.5555555555555556,
             "#d8576b"
            ],
            [
             0.6666666666666666,
             "#ed7953"
            ],
            [
             0.7777777777777778,
             "#fb9f3a"
            ],
            [
             0.8888888888888888,
             "#fdca26"
            ],
            [
             1,
             "#f0f921"
            ]
           ]
          },
          "colorway": [
           "#636efa",
           "#EF553B",
           "#00cc96",
           "#ab63fa",
           "#FFA15A",
           "#19d3f3",
           "#FF6692",
           "#B6E880",
           "#FF97FF",
           "#FECB52"
          ],
          "font": {
           "color": "#2a3f5f"
          },
          "geo": {
           "bgcolor": "white",
           "lakecolor": "white",
           "landcolor": "#E5ECF6",
           "showlakes": true,
           "showland": true,
           "subunitcolor": "white"
          },
          "hoverlabel": {
           "align": "left"
          },
          "hovermode": "closest",
          "mapbox": {
           "style": "light"
          },
          "paper_bgcolor": "white",
          "plot_bgcolor": "#E5ECF6",
          "polar": {
           "angularaxis": {
            "gridcolor": "white",
            "linecolor": "white",
            "ticks": ""
           },
           "bgcolor": "#E5ECF6",
           "radialaxis": {
            "gridcolor": "white",
            "linecolor": "white",
            "ticks": ""
           }
          },
          "scene": {
           "xaxis": {
            "backgroundcolor": "#E5ECF6",
            "gridcolor": "white",
            "gridwidth": 2,
            "linecolor": "white",
            "showbackground": true,
            "ticks": "",
            "zerolinecolor": "white"
           },
           "yaxis": {
            "backgroundcolor": "#E5ECF6",
            "gridcolor": "white",
            "gridwidth": 2,
            "linecolor": "white",
            "showbackground": true,
            "ticks": "",
            "zerolinecolor": "white"
           },
           "zaxis": {
            "backgroundcolor": "#E5ECF6",
            "gridcolor": "white",
            "gridwidth": 2,
            "linecolor": "white",
            "showbackground": true,
            "ticks": "",
            "zerolinecolor": "white"
           }
          },
          "shapedefaults": {
           "line": {
            "color": "#2a3f5f"
           }
          },
          "ternary": {
           "aaxis": {
            "gridcolor": "white",
            "linecolor": "white",
            "ticks": ""
           },
           "baxis": {
            "gridcolor": "white",
            "linecolor": "white",
            "ticks": ""
           },
           "bgcolor": "#E5ECF6",
           "caxis": {
            "gridcolor": "white",
            "linecolor": "white",
            "ticks": ""
           }
          },
          "title": {
           "x": 0.05
          },
          "xaxis": {
           "automargin": true,
           "gridcolor": "white",
           "linecolor": "white",
           "ticks": "",
           "title": {
            "standoff": 15
           },
           "zerolinecolor": "white",
           "zerolinewidth": 2
          },
          "yaxis": {
           "automargin": true,
           "gridcolor": "white",
           "linecolor": "white",
           "ticks": "",
           "title": {
            "standoff": 15
           },
           "zerolinecolor": "white",
           "zerolinewidth": 2
          }
         }
        },
        "width": 1200,
        "xaxis": {
         "anchor": "y",
         "domain": [
          0,
          1
         ],
         "gridcolor": "lightgrey",
         "range": [
          "2006-04-18T00:00:00",
          "2023-07-31T00:00:00"
         ],
         "tickangle": 45,
         "zerolinecolor": "lightgrey"
        },
        "xaxis2": {
         "anchor": "y2",
         "domain": [
          0,
          1
         ],
         "gridcolor": "lightgrey",
         "range": [
          "2008-06-16T00:00:00",
          "2023-07-31T00:00:00"
         ],
         "tickangle": 45,
         "zerolinecolor": "lightgrey"
        },
        "xaxis3": {
         "anchor": "y3",
         "domain": [
          0,
          1
         ],
         "gridcolor": "lightgrey",
         "range": [
          "2003-02-28T00:00:00",
          "2023-07-31T00:00:00"
         ],
         "tickangle": 45,
         "zerolinecolor": "lightgrey"
        },
        "xaxis4": {
         "anchor": "y4",
         "domain": [
          0,
          1
         ],
         "gridcolor": "lightgrey",
         "range": [
          "2008-09-10T00:00:00",
          "2023-07-31T00:00:00"
         ],
         "tickangle": 45,
         "zerolinecolor": "lightgrey"
        },
        "xaxis5": {
         "anchor": "y5",
         "domain": [
          0,
          1
         ],
         "gridcolor": "lightgrey",
         "range": [
          "2007-08-07T00:00:00",
          "2023-07-31T00:00:00"
         ],
         "tickangle": 45,
         "zerolinecolor": "lightgrey"
        },
        "xaxis6": {
         "anchor": "y6",
         "domain": [
          0,
          1
         ],
         "gridcolor": "lightgrey",
         "range": [
          "2003-12-11T00:00:00",
          "2023-07-31T00:00:00"
         ],
         "tickangle": 45,
         "zerolinecolor": "lightgrey"
        },
        "xaxis7": {
         "anchor": "y7",
         "domain": [
          0,
          1
         ],
         "gridcolor": "lightgrey",
         "range": [
          "2004-06-11T00:00:00",
          "2023-07-31T00:00:00"
         ],
         "tickangle": 45,
         "zerolinecolor": "lightgrey"
        },
        "xaxis8": {
         "anchor": "y8",
         "domain": [
          0,
          1
         ],
         "gridcolor": "lightgrey",
         "range": [
          "2006-05-20T00:00:00",
          "2023-07-31T00:00:00"
         ],
         "tickangle": 45,
         "zerolinecolor": "lightgrey"
        },
        "yaxis": {
         "anchor": "x",
         "domain": [
          0.91875,
          1
         ],
         "gridcolor": "lightgrey",
         "ticktext": [
          "EM",
          "EM1",
          "EM2",
          "EM3",
          "UM",
          "PM1",
          "PM2",
          "PM3",
          "PM4",
          "NSV",
          "TFP",
          "MON",
          "FXD",
          "NID",
          "LCR"
         ],
         "tickvals": [
          14,
          13,
          12,
          11,
          10,
          9,
          8,
          7,
          6,
          5,
          4,
          3,
          2,
          1,
          0
         ],
         "title": {
          "text": "Severity Level"
         },
         "zerolinecolor": "lightgrey"
        },
        "yaxis2": {
         "anchor": "x2",
         "domain": [
          0.7875,
          0.8687499999999999
         ],
         "gridcolor": "lightgrey",
         "ticktext": [
          "EM",
          "EM1",
          "EM2",
          "EM3",
          "UM",
          "PM1",
          "PM2",
          "PM3",
          "PM4",
          "NSV",
          "TFP",
          "MON",
          "FXD",
          "NID",
          "LCR"
         ],
         "tickvals": [
          14,
          13,
          12,
          11,
          10,
          9,
          8,
          7,
          6,
          5,
          4,
          3,
          2,
          1,
          0
         ],
         "title": {
          "text": "Severity Level"
         },
         "zerolinecolor": "lightgrey"
        },
        "yaxis3": {
         "anchor": "x3",
         "domain": [
          0.65625,
          0.7375
         ],
         "gridcolor": "lightgrey",
         "ticktext": [
          "EM",
          "EM1",
          "EM2",
          "EM3",
          "UM",
          "PM1",
          "PM2",
          "PM3",
          "PM4",
          "NSV",
          "TFP",
          "MON",
          "FXD",
          "NID",
          "LCR"
         ],
         "tickvals": [
          14,
          13,
          12,
          11,
          10,
          9,
          8,
          7,
          6,
          5,
          4,
          3,
          2,
          1,
          0
         ],
         "title": {
          "text": "Severity Level"
         },
         "zerolinecolor": "lightgrey"
        },
        "yaxis4": {
         "anchor": "x4",
         "domain": [
          0.5249999999999999,
          0.60625
         ],
         "gridcolor": "lightgrey",
         "ticktext": [
          "EM",
          "EM1",
          "EM2",
          "EM3",
          "UM",
          "PM1",
          "PM2",
          "PM3",
          "PM4",
          "NSV",
          "TFP",
          "MON",
          "FXD",
          "NID",
          "LCR"
         ],
         "tickvals": [
          14,
          13,
          12,
          11,
          10,
          9,
          8,
          7,
          6,
          5,
          4,
          3,
          2,
          1,
          0
         ],
         "title": {
          "text": "Severity Level"
         },
         "zerolinecolor": "lightgrey"
        },
        "yaxis5": {
         "anchor": "x5",
         "domain": [
          0.39375,
          0.475
         ],
         "gridcolor": "lightgrey",
         "ticktext": [
          "EM",
          "EM1",
          "EM2",
          "EM3",
          "UM",
          "PM1",
          "PM2",
          "PM3",
          "PM4",
          "NSV",
          "TFP",
          "MON",
          "FXD",
          "NID",
          "LCR"
         ],
         "tickvals": [
          14,
          13,
          12,
          11,
          10,
          9,
          8,
          7,
          6,
          5,
          4,
          3,
          2,
          1,
          0
         ],
         "title": {
          "text": "Severity Level"
         },
         "zerolinecolor": "lightgrey"
        },
        "yaxis6": {
         "anchor": "x6",
         "domain": [
          0.26249999999999996,
          0.34374999999999994
         ],
         "gridcolor": "lightgrey",
         "ticktext": [
          "EM",
          "EM1",
          "EM2",
          "EM3",
          "UM",
          "PM1",
          "PM2",
          "PM3",
          "PM4",
          "NSV",
          "TFP",
          "MON",
          "FXD",
          "NID",
          "LCR"
         ],
         "tickvals": [
          14,
          13,
          12,
          11,
          10,
          9,
          8,
          7,
          6,
          5,
          4,
          3,
          2,
          1,
          0
         ],
         "title": {
          "text": "Severity Level"
         },
         "zerolinecolor": "lightgrey"
        },
        "yaxis7": {
         "anchor": "x7",
         "domain": [
          0.13124999999999998,
          0.21249999999999997
         ],
         "gridcolor": "lightgrey",
         "ticktext": [
          "EM",
          "EM1",
          "EM2",
          "EM3",
          "UM",
          "PM1",
          "PM2",
          "PM3",
          "PM4",
          "NSV",
          "TFP",
          "MON",
          "FXD",
          "NID",
          "LCR"
         ],
         "tickvals": [
          14,
          13,
          12,
          11,
          10,
          9,
          8,
          7,
          6,
          5,
          4,
          3,
          2,
          1,
          0
         ],
         "title": {
          "text": "Severity Level"
         },
         "zerolinecolor": "lightgrey"
        },
        "yaxis8": {
         "anchor": "x8",
         "domain": [
          0,
          0.08124999999999999
         ],
         "gridcolor": "lightgrey",
         "ticktext": [
          "EM",
          "EM1",
          "EM2",
          "EM3",
          "UM",
          "PM1",
          "PM2",
          "PM3",
          "PM4",
          "NSV",
          "TFP",
          "MON",
          "FXD",
          "NID",
          "LCR"
         ],
         "tickvals": [
          14,
          13,
          12,
          11,
          10,
          9,
          8,
          7,
          6,
          5,
          4,
          3,
          2,
          1,
          0
         ],
         "title": {
          "text": "Severity Level"
         },
         "zerolinecolor": "lightgrey"
        }
       }
      }
     },
     "metadata": {},
     "output_type": "display_data"
    }
   ],
   "source": [
    "import pandas as pd\n",
    "import plotly.graph_objects as go\n",
    "from plotly.subplots import make_subplots\n",
    "\n",
    "\n",
    "# Define severity levels and status descriptions\n",
    "severity_levels = {\n",
    "    \"EM\": (14, \"red\"),\n",
    "    \"EM1\": (13, \"red\"),\n",
    "    \"EM2\": (12, \"red\"),\n",
    "    \"EM3\": (11, \"red\"),\n",
    "    \"UM\": (10, \"orange\"),\n",
    "    \"PM1\": (9, \"yellow\"),\n",
    "    \"PM2\": (8, \"green\"),\n",
    "    \"PM3\": (7, \"green\"),\n",
    "    \"PM4\": (6, \"green\"),\n",
    "    \"NSV\": (5, \"blue\"),\n",
    "    \"TFP\": (4, \"blue\"),\n",
    "    \"MON\": (3, \"blue\"),\n",
    "    \"FXD\": (2, \"gray\"),\n",
    "    \"NID\": (1, \"gray\"),\n",
    "    \"LCR\": (0, \"gray\")\n",
    "}\n",
    "\n",
    "status_descriptions = {\n",
    "    \"EM\": \"Emergency Maintenance - Immediate action required\",\n",
    "    \"EM1\": \"Must be fixed or made safe while on site.\",\n",
    "    \"EM2\": \"Must be made safe and fixed within 2 days.\",\n",
    "    \"EM3\": \"Must be made safe and fixed within 30 days.\",\n",
    "    \"UM\": \"Must be completed within 3 months of notification.\",\n",
    "    \"PM1\": \"Must be completed within 6 months.\",\n",
    "    \"PM2\": \"Must be completed within 12 months depending on rating.\",\n",
    "    \"PM3\": \"Must be completed within 4 years depending on rating.\",\n",
    "    \"PM4\": \"Must be completed within 10 years depending on rating.\",\n",
    "    \"NSV\": \"Work that can be completed by the next person going to site.\",\n",
    "    \"TFP\": \"Referred to Towers Planning.\",\n",
    "    \"TFP / PM3\": \"Must be completed within 4 years depending on rating.\",\n",
    "    \"MON\": \"Monitor Next Inspection / Site Visit.\",\n",
    "    \"FXD\": \"Issue was fixed while on site.\",\n",
    "    \"NID\": \"Next Inspection Due\",\n",
    "    \"LCR\": \"Life Cycle Refurbishment / Replacement\"\n",
    "}\n",
    "\n",
    "# Map RiskRating_Cleaned to severity levels and colors\n",
    "df['Severity_Score'] = df['RiskRating_Cleaned'].map(lambda x: severity_levels[x][0])\n",
    "df['Color'] = df['RiskRating_Cleaned'].map(lambda x: severity_levels[x][1])\n",
    "\n",
    "# Get unique towers\n",
    "towers = df['AMSAssetRef'].unique()\n",
    "\n",
    "# Determine global x-axis range\n",
    "global_end_date = df['IssueCreated'].max()\n",
    "\n",
    "# Create subplots\n",
    "fig = make_subplots(\n",
    "    rows=len(towers),\n",
    "    cols=1,\n",
    "    subplot_titles=[f\"Tower: {tower}\" for tower in towers],\n",
    "    vertical_spacing=0.05  # Reduced spacing to maximize subplot size\n",
    ")\n",
    "\n",
    "# Plot each tower\n",
    "for i, tower in enumerate(towers, 1):\n",
    "    tower_df = df[df['AMSAssetRef'] == tower].copy()\n",
    "    start_date = tower_df['StructureInstallationDate'].min()\n",
    "    \n",
    "    # Get unique severity levels for this tower for the legend\n",
    "    unique_severities = tower_df['RiskRating_Cleaned'].unique()\n",
    "    \n",
    "    # Scatter plot for each severity level to create legend entries\n",
    "    for severity in unique_severities:\n",
    "        severity_df = tower_df[tower_df['RiskRating_Cleaned'] == severity]\n",
    "        fig.add_trace(\n",
    "            go.Scatter(\n",
    "                x=severity_df['IssueCreated'],\n",
    "                y=severity_df['Severity'],\n",
    "                mode='markers+text',\n",
    "                marker=dict(size=12, color=severity_levels[severity][1], line=dict(width=1, color=severity_levels[severity][1])),\n",
    "                text=severity_df['RiskRating_Cleaned'],\n",
    "                textposition='top center',\n",
    "                name=f\"{severity} - {status_descriptions[severity]}\",\n",
    "                showlegend=True\n",
    "            ),\n",
    "            row=i,\n",
    "            col=1\n",
    "        )\n",
    "    \n",
    "    # Add vertical lines for each IssueCreated date\n",
    "    for _, row in tower_df.iterrows():\n",
    "        fig.add_vline(\n",
    "            x=row['IssueCreated'].timestamp() * 1000,  # Convert to milliseconds\n",
    "            line=dict(color='red', dash='dot', width=1),\n",
    "            row=i,\n",
    "            col=1\n",
    "        )\n",
    "        fig.add_annotation(\n",
    "            x=row['IssueCreated'],\n",
    "            y=0,\n",
    "            text=row['IssueCreated'].strftime('%Y-%m-%d'),\n",
    "            showarrow=False,\n",
    "            xanchor='center',\n",
    "            yanchor='bottom',\n",
    "            textangle=90,\n",
    "            font=dict(size=10, color='red'),\n",
    "            row=i,\n",
    "            col=1\n",
    "        )\n",
    "    \n",
    "    # Update x-axis\n",
    "    fig.update_xaxes(\n",
    "        range=[start_date, global_end_date],\n",
    "        gridcolor='lightgrey',\n",
    "        zerolinecolor='lightgrey',\n",
    "        tickangle=45,\n",
    "        row=i,\n",
    "        col=1\n",
    "    )\n",
    "\n",
    "# Update y-axis to show RiskRating_Cleaned labels\n",
    "y_labels = {v[0]: k for k, v in severity_levels.items()}\n",
    "fig.update_yaxes(\n",
    "    tickvals=list(y_labels.keys()),\n",
    "    ticktext=list(y_labels.values()),\n",
    "    gridcolor='lightgrey',\n",
    "    zerolinecolor='lightgrey',\n",
    "    title_text=\"Severity Level\"\n",
    ")\n",
    "\n",
    "# Update layout for dark theme and large subplots\n",
    "fig.update_layout(\n",
    "    height=400 * len(towers),  # Increased height per subplot\n",
    "    width=1200,  # Wider figure to accommodate legend and table\n",
    "    plot_bgcolor='rgb(30, 30, 30)',\n",
    "    paper_bgcolor='rgb(30, 30, 30)',\n",
    "    font=dict(color='white'),\n",
    "    legend=dict(\n",
    "        title_text=\"Severity Levels & Definitions\",\n",
    "        x=0.65,  # Position legend to the left of the table\n",
    "        y=1.0,\n",
    "        xanchor='left',\n",
    "        yanchor='top',\n",
    "        bgcolor='rgba(50, 50, 50, 0.8)',\n",
    "        bordercolor='white',\n",
    "        borderwidth=1,\n",
    "        font=dict(size=10)\n",
    "    ),\n",
    "    margin=dict(r=200)  # Reserve space for table\n",
    ")\n",
    "\n",
    "# Add severity levels dictionary as a table on the right\n",
    "table_trace = go.Table(\n",
    "    header=dict(\n",
    "        values=['Severity', 'Level', 'Color'],\n",
    "        fill_color='rgb(50, 50, 50)',\n",
    "        font=dict(color='white'),\n",
    "        align='center'\n",
    "    ),\n",
    "    cells=dict(\n",
    "        values=[\n",
    "            list(severity_levels.keys()),\n",
    "            [v[0] for v in severity_levels.values()],\n",
    "            [f'<b style=\"color:{v[1]}\">{v[1]}</b>' for v in severity_levels.values()]  # Show color names in their color\n",
    "        ],\n",
    "        fill_color='rgb(30, 30, 30)',\n",
    "        font=dict(color='white'),\n",
    "        align='center'\n",
    "    ),\n",
    "    domain=dict(x=[0.85, 1.0], y=[0, 1])  # Position table on far right\n",
    ")\n",
    "\n",
    "fig.add_trace(table_trace)\n",
    "\n",
    "# Show the plot\n",
    "fig.show()"
   ]
  }
 ],
 "metadata": {
  "kernelspec": {
   "display_name": "Python 3",
   "language": "python",
   "name": "python3"
  },
  "language_info": {
   "codemirror_mode": {
    "name": "ipython",
    "version": 3
   },
   "file_extension": ".py",
   "mimetype": "text/x-python",
   "name": "python",
   "nbconvert_exporter": "python",
   "pygments_lexer": "ipython3",
   "version": "3.9.13"
  }
 },
 "nbformat": 4,
 "nbformat_minor": 5
}
